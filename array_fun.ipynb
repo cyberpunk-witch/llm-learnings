{
 "cells": [
  {
   "cell_type": "code",
   "execution_count": 1,
   "id": "3bedf9ca-d4ec-4e16-b336-4519a8b315a6",
   "metadata": {},
   "outputs": [
    {
     "name": "stdout",
     "output_type": "stream",
     "text": [
      "Mercury\n",
      "Venus\n",
      "Earth\n",
      "Mars\n",
      "Jupiter\n",
      "Saturn\n",
      "Uranus\n",
      "Neptune\n",
      "Pluto\n"
     ]
    }
   ],
   "source": [
    "planets = [\"Mercury\", \"Venus\", \"Earth\", \"Mars\", \"Jupiter\", \"Saturn\", \"Uranus\", \"Neptune\", \"Pluto\"]\n",
    "for planet in planets:\n",
    "    print(planet)"
   ]
  },
  {
   "cell_type": "code",
   "execution_count": 2,
   "id": "f09fd7ac-3fa5-4817-82c9-2db87659b38a",
   "metadata": {},
   "outputs": [
    {
     "name": "stdout",
     "output_type": "stream",
     "text": [
      "but Pluto's not a planet, so let's try again.\n",
      "['Mercury', 'Venus', 'Earth', 'Mars', 'Jupiter', 'Saturn', 'Uranus', 'Neptune']\n"
     ]
    }
   ],
   "source": [
    "print(\"but Pluto's not a planet, so let's try again.\")\n",
    "planets.pop()\n",
    "print(planets)"
   ]
  },
  {
   "cell_type": "code",
   "execution_count": 5,
   "id": "5a345dd4-f65e-44c2-a89f-b7ce2c6d69f3",
   "metadata": {},
   "outputs": [
    {
     "name": "stdout",
     "output_type": "stream",
     "text": [
      "That's better. We can also: \n",
      "0.Mercury\n",
      "1.Venus\n",
      "2.Earth\n",
      "3.Mars\n",
      "4.Jupiter\n",
      "5.Saturn\n",
      "6.Uranus\n",
      "7.Neptune\n"
     ]
    }
   ],
   "source": [
    "print(\"That's better. We can also: \")\n",
    "planets = [\"Mercury\", \"Venus\", \"Earth\", \"Mars\", \"Jupiter\", \"Saturn\", \"Uranus\", \"Neptune\", \"Pluto\"]\n",
    "planets.pop(8)\n",
    "for i, planet in enumerate(planets):\n",
    "    print(f'{i}.{planet}')"
   ]
  },
  {
   "cell_type": "code",
   "execution_count": 7,
   "id": "8b136ab6-a220-4da9-b9ff-ce7abb47f81b",
   "metadata": {},
   "outputs": [
    {
     "name": "stdout",
     "output_type": "stream",
     "text": [
      "Additionally: \n",
      "0.Mercury\n",
      "1.Venus\n",
      "2.Earth\n",
      "3.Mars\n",
      "4.Jupiter\n",
      "5.Saturn\n",
      "6.Uranus\n",
      "7.Neptune\n"
     ]
    }
   ],
   "source": [
    "print(\"Additionally: \")\n",
    "planets = [\"Mercury\", \"Venus\", \"Earth\", \"Mars\", \"Jupiter\", \"Saturn\", \"Uranus\", \"Neptune\", \"Pluto\"]\n",
    "for i, planet in enumerate(planets[:-1]):\n",
    "    print(f'{i}.{planet}')"
   ]
  },
  {
   "cell_type": "code",
   "execution_count": 9,
   "id": "d87f37fc-6b79-4989-8ff8-a63fc6668c12",
   "metadata": {},
   "outputs": [
    {
     "name": "stdout",
     "output_type": "stream",
     "text": [
      "likewise: \n",
      "0.Mercury\n",
      "1.Venus\n",
      "2.Earth\n",
      "3.Mars\n",
      "4.Jupiter\n",
      "5.Saturn\n",
      "6.Uranus\n",
      "7.Neptune\n"
     ]
    }
   ],
   "source": [
    "print(\"likewise: \")\n",
    "planets = [\"Mercury\", \"Venus\", \"Earth\", \"Mars\", \"Jupiter\", \"Saturn\", \"Uranus\", \"Neptune\", \"Pluto\"]\n",
    "for i, planet in enumerate(planets[:8]):\n",
    "    print(f'{i}.{planet}')"
   ]
  },
  {
   "cell_type": "code",
   "execution_count": 13,
   "id": "c6e7daee-e064-4e2e-8ba3-58d835908b83",
   "metadata": {},
   "outputs": [
    {
     "name": "stdout",
     "output_type": "stream",
     "text": [
      "You're starting to get it. \n",
      "0.Mercury\n",
      "1.Venus\n",
      "2.Earth\n",
      "3.Mars\n",
      "4.Jupiter\n",
      "5.Saturn\n",
      "6.Uranus\n",
      "7.Neptune\n"
     ]
    }
   ],
   "source": [
    "print(\"You're starting to get it. \")\n",
    "planets = [\"Mercury\", \"Venus\", \"Earth\", \"Mars\", \"Jupiter\", \"Saturn\", \"Uranus\", \"Neptune\", \"Pluto\"]\n",
    "for i, planet in enumerate(planets[-9:-1]):\n",
    "    print(f'{i}.{planet}')"
   ]
  },
  {
   "cell_type": "code",
   "execution_count": 14,
   "id": "0c3c6188-7a7c-4e0a-b9bc-899fdc7fdd2d",
   "metadata": {},
   "outputs": [
    {
     "name": "stdout",
     "output_type": "stream",
     "text": [
      "Now let's try: \n",
      "0.Mercury\n",
      "1.Venus\n",
      "2.Earth\n",
      "3.Mars\n",
      "4.Jupiter\n",
      "5.Saturn\n",
      "6.Uranus\n",
      "7.Neptune\n"
     ]
    }
   ],
   "source": [
    "print(\"Now let's try: \")\n",
    "planets = [\"Mercury\", \"Venus\", \"Earth\", \"Mars\", \"Jupiter\", \"Saturn\", \"Uranus\", \"Neptune\", \"Pluto\"]\n",
    "del(planets[8])\n",
    "for i, planet in enumerate(planets):\n",
    "    print(f'{i}.{planet}')"
   ]
  },
  {
   "cell_type": "code",
   "execution_count": 16,
   "id": "34dcca3c-cbf6-4593-b0ac-496b83354591",
   "metadata": {},
   "outputs": [
    {
     "name": "stdout",
     "output_type": "stream",
     "text": [
      "similarly: \n",
      "0.Mercury\n",
      "1.Venus\n",
      "2.Earth\n",
      "3.Mars\n",
      "4.Jupiter\n",
      "5.Saturn\n",
      "6.Uranus\n",
      "7.Neptune\n"
     ]
    }
   ],
   "source": [
    "print(\"similarly: \")\n",
    "planets = [\"Mercury\", \"Venus\", \"Earth\", \"Mars\", \"Jupiter\", \"Saturn\", \"Uranus\", \"Neptune\", \"Pluto\"]\n",
    "planets.remove('Pluto')\n",
    "for i, planet in enumerate(planets):\n",
    "    print(f'{i}.{planet}')"
   ]
  },
  {
   "cell_type": "code",
   "execution_count": 19,
   "id": "4bae01ef-0b5b-42c4-bd15-77f409f00dc1",
   "metadata": {},
   "outputs": [
    {
     "name": "stdout",
     "output_type": "stream",
     "text": [
      "now that we've got our planets sorted, let's sort them alphabetically: \n",
      "sorted:  ['Earth', 'Jupiter', 'Mars', 'Mercury', 'Neptune', 'Saturn', 'Uranus', 'Venus']\n",
      "old list:  ['Mercury', 'Venus', 'Earth', 'Mars', 'Jupiter', 'Saturn', 'Uranus', 'Neptune']\n",
      "note planets didn't get sorted - sorted returns a sorted (alphabetized in this case) list without sorting from any iterable\n",
      "to sort the original in place, we use sort()\n",
      "sorted:  None\n",
      "planets after using sort:  ['Earth', 'Jupiter', 'Mars', 'Mercury', 'Neptune', 'Saturn', 'Uranus', 'Venus']\n"
     ]
    }
   ],
   "source": [
    "print(\"now that we've got our planets sorted, let's sort them alphabetically: \")\n",
    "print(\"sorted: \",sorted(planets))\n",
    "print(\"old list: \",planets)\n",
    "print(\"note planets didn't get sorted - sorted returns a sorted (alphabetized in this case) list without sorting from any iterable\")\n",
    "print(\"to sort the original in place, we use sort()\")\n",
    "print(\"sorted: \",planets.sort()) # sort() returns type None, but sorts the array it is invoked upon.\n",
    "print(\"planets after using sort: \", planets)"
   ]
  },
  {
   "cell_type": "code",
   "execution_count": 20,
   "id": "d736773b-02ef-4537-840e-8115ce4cc98d",
   "metadata": {},
   "outputs": [
    {
     "name": "stdout",
     "output_type": "stream",
     "text": [
      "Mercury is 0.39AU from the Sun.\n",
      "Venus is 0.72AU from the Sun.\n",
      "Earth is 1AU from the Sun.\n",
      "Mars is 1.52AU from the Sun.\n",
      "Jupiter is 5.2AU from the Sun.\n",
      "Saturn is 9.54AU from the Sun.\n",
      "Uranus is 19.2AU from the Sun.\n",
      "Neptune is 30.06AU from the Sun.\n"
     ]
    }
   ],
   "source": [
    "len(planets)\n",
    "planets = [\"Mercury\", \"Venus\", \"Earth\", \"Mars\", \"Jupiter\", \"Saturn\", \"Uranus\", \"Neptune\", \"Pluto\"][:-1]\n",
    "distances_of_planets = [0.39, 0.72, 1, 1.52, 5.2, 9.54, 19.2, 30.06]\n",
    "for p, d in zip(planets, distances_of_planets):\n",
    "    print(f'{p} is {d}AU from the Sun.')\n"
   ]
  },
  {
   "cell_type": "code",
   "execution_count": 26,
   "id": "a5af5b7b-c358-4b92-b4f6-26bb1ae43061",
   "metadata": {},
   "outputs": [
    {
     "name": "stdout",
     "output_type": "stream",
     "text": [
      "['Mercury', 'Venus', 'Earth', 'Mars', 'Jupiter', 'Saturn', 'Uranus', 'Neptune', 'Pluto', 'Pluto', 0.39, 0.72, 1, 1.52, 5.2, 9.54, 19.2, 30.06, 49.3, 49.3, 49.3, 49.3, 49.3, 'Pluto', 0.39, 0.72, 1, 1.52, 5.2, 9.54, 19.2, 30.06, 49.3, 49.3, 49.3, 49.3, 49.3, 49.3]\n"
     ]
    }
   ],
   "source": [
    "planets.append('Pluto')\n",
    "planets_plus_pluto = planets # cannot assign directly, append returns None, this copy is shallow.\n",
    "distances_of_planets.append(49.3) \n",
    "planets.extend(distances_of_planets)\n",
    "print(planets) "
   ]
  },
  {
   "cell_type": "code",
   "execution_count": 29,
   "id": "f9b6f500-18a8-4c20-a46a-7261b4439ac0",
   "metadata": {},
   "outputs": [
    {
     "name": "stdout",
     "output_type": "stream",
     "text": [
      "[('Mercury', 0.39), ('Venus', 0.72), ('Earth', 1), ('Mars', 1.52), ('Jupiter', 5.2), ('Saturn', 9.54), ('Uranus', 19.2), ('Neptune', 30.06)]\n"
     ]
    }
   ],
   "source": [
    "planets = [\"Mercury\", \"Venus\", \"Earth\", \"Mars\", \"Jupiter\", \"Saturn\", \"Uranus\", \"Neptune\", \"Pluto\"][:-1]\n",
    "distances_of_planets = [0.39, 0.72, 1, 1.52, 5.2, 9.54, 19.2, 30.06]\n",
    "print(list(zip(planets, distances_of_planets)))"
   ]
  },
  {
   "cell_type": "code",
   "execution_count": 31,
   "id": "0927e656-5bc6-4c5c-a17b-47df5919b5d8",
   "metadata": {},
   "outputs": [
    {
     "name": "stdout",
     "output_type": "stream",
     "text": [
      "Mercury is 0.39AU from the Sun.\n",
      "Venus is 0.72AU from the Sun.\n",
      "Earth is 1AU from the Sun.\n",
      "Mars is 1.52AU from the Sun.\n",
      "Jupiter is 5.2AU from the Sun.\n",
      "Saturn is 9.54AU from the Sun.\n",
      "Uranus is 19.2AU from the Sun.\n",
      "Neptune is 30.06AU from the Sun.\n"
     ]
    }
   ],
   "source": [
    "planets = [\"Mercury\", \"Venus\", \"Earth\", \"Mars\", \"Jupiter\", \"Saturn\", \"Uranus\", \"Neptune\", \"Pluto\"][:-1]\n",
    "distances_of_planets = [0.39, 0.72, 1, 1.52, 5.2, 9.54, 19.2, 30.06]\n",
    "for p, d in list(zip(planets, distances_of_planets)):\n",
    "    print(f'{p} is {d}AU from the Sun.')"
   ]
  },
  {
   "cell_type": "code",
   "execution_count": 34,
   "id": "792c59c1-404a-479a-a2fd-261926748493",
   "metadata": {},
   "outputs": [
    {
     "name": "stdout",
     "output_type": "stream",
     "text": [
      "too far! 'zip' object has no attribute 'next'\n",
      "done!\n"
     ]
    }
   ],
   "source": [
    "planets_with_distances_iterable = zip(planets, distances_of_planets)\n",
    "keep_going = True\n",
    "while keep_going:\n",
    "    try:\n",
    "        temp = planets_with_distances_iterable.next()\n",
    "        print(temp)\n",
    "    except Exception as e:\n",
    "        print('nope!',e) # fails because while zip is iterable, it doesn't implement next() like some.\n",
    "        keep_going = False\n",
    "print('done!')"
   ]
  },
  {
   "cell_type": "code",
   "execution_count": 35,
   "id": "a28f9cb5-eb75-463b-9f37-3cf98e47e8b2",
   "metadata": {},
   "outputs": [
    {
     "name": "stdout",
     "output_type": "stream",
     "text": [
      "('Mercury', 'Venus', 'Earth', 'Mars', 'Jupiter', 'Saturn', 'Uranus', 'Neptune')\n",
      "(0.39, 0.72, 1, 1.52, 5.2, 9.54, 19.2, 30.06)\n"
     ]
    }
   ],
   "source": [
    "# you can unzip what is zipped:\n",
    "p, d = zip(*planets_with_distances_iterable) # note the unpacking operator.\n",
    "print(p)\n",
    "print(d)"
   ]
  },
  {
   "cell_type": "code",
   "execution_count": 38,
   "id": "63afdb28-220c-4cbc-9ab1-a9e4d04cb73f",
   "metadata": {},
   "outputs": [
    {
     "name": "stdout",
     "output_type": "stream",
     "text": [
      "[('Earth', 1), ('Jupiter', 5.2), ('Mars', 1.52), ('Mercury', 0.39), ('Neptune', 30.06), ('Saturn', 9.54), ('Uranus', 19.2), ('Venus', 0.72)]\n",
      "[(0.39, 'Mercury'), (0.72, 'Venus'), (1, 'Earth'), (1.52, 'Mars'), (5.2, 'Jupiter'), (9.54, 'Saturn'), (19.2, 'Uranus'), (30.06, 'Neptune')]\n"
     ]
    }
   ],
   "source": [
    "zippedlist = list(zip(p,d))\n",
    "zippedlist.sort()\n",
    "print(zippedlist) # alphabetical by planet name (sort sorts by first item zipped)\n",
    "zippedlist = list(zip(d,p))\n",
    "zippedlist.sort()\n",
    "print(zippedlist) # by distance from the sun.\n",
    "# this essentially let us sort on whatever column we like."
   ]
  },
  {
   "cell_type": "code",
   "execution_count": 47,
   "id": "9204f232-7f3b-4bd4-b830-8c490163eb25",
   "metadata": {},
   "outputs": [
    {
     "name": "stdout",
     "output_type": "stream",
     "text": [
      "('Mercury', 0.39)\n",
      "('Venus', 0.72)\n",
      "('Earth', 1)\n",
      "('Jupiter', 5.2)\n",
      "('Neptune', 30.06)\n",
      "('Mars', 1.52)\n",
      "('Saturn', 9.54)\n",
      "('Uranus', 19.2)\n"
     ]
    }
   ],
   "source": [
    "# sorting will also let you take for a key a lambda which accepts the item sorted over ( a tuple in this case with planet, distance) and run a lambda, letting you filter things.\n",
    "# let's get all the planets with the letter 'e' in them before the others: \n",
    "zippedlist = list(zip(p,d))\n",
    "zippedlist.sort(key=lambda p: 'e' not in p[0].lower()) # false is less than true, so we look for not in to get e's first.\n",
    "done = False\n",
    "for item in zippedlist:\n",
    "    print(item)"
   ]
  },
  {
   "cell_type": "code",
   "execution_count": 56,
   "id": "d7e71794-9f9b-4458-bb5e-087bed53eddc",
   "metadata": {},
   "outputs": [
    {
     "name": "stdout",
     "output_type": "stream",
     "text": [
      "Mercury: 3.2448 light-minutes\n",
      "Venus: 5.9904 light-minutes\n",
      "Earth: 8.32 light-minutes\n",
      "Jupiter: 43.264 light-minutes\n",
      "Neptune: 250.0992 light-minutes\n",
      "Mars: 12.6464 light-minutes\n",
      "Saturn: 79.3728 light-minutes\n",
      "Uranus: 159.744 light-minutes\n"
     ]
    }
   ],
   "source": [
    "planets_with_light_minutes = list(map(lambda p: (p[0], str(p[1]*8.32)+' light-minutes'), zippedlist))\n",
    "for j,k in planets_with_light_minutes:\n",
    "    print(j+\":\",k)"
   ]
  },
  {
   "cell_type": "code",
   "execution_count": 63,
   "id": "fde94123-9ffe-4292-a3bd-d1bf9293a260",
   "metadata": {},
   "outputs": [
    {
     "name": "stdout",
     "output_type": "stream",
     "text": [
      "---del: 0.0003376007080078125 seconds ---\n",
      "---slice: 0.00336456298828125 seconds ---\n",
      "---del(end): 0.0006685256958007812 seconds ---\n",
      "---pop(end): 0.00011277198791503906 seconds ---\n"
     ]
    }
   ],
   "source": [
    "import time\n",
    "import numpy as np\n",
    "# make two big arrays, then delete them in a loop by two differnet methods.\n",
    "a = []\n",
    "b = []\n",
    "c = []\n",
    "d = []\n",
    "e = []\n",
    "f = []\n",
    "g = []\n",
    "h = []\n",
    "for i in range (2000):\n",
    "    a.append(i)\n",
    "    b.append(i)\n",
    "    c.append(i)\n",
    "    d.append(i)\n",
    "    e.append(i)\n",
    "    f.append(i)\n",
    "    g.append(i)\n",
    "    h.append(i)\n",
    "start_time = time.time()\n",
    "for i in range(2000):\n",
    "    del(a[0])\n",
    "print(\"---del: %s seconds ---\" % (time.time() - start_time))\n",
    "start_time = time.time()\n",
    "for i in range(2000):\n",
    "    b = b[1:]\n",
    "print(\"---assign slice: %s seconds ---\" % (time.time() - start_time))\n",
    "start_time = time.time()\n",
    "for i in range(2000):\n",
    "    del(c[:-1])\n",
    "print(\"---del(end): %s seconds ---\" % (time.time() - start_time))\n",
    "start_time = time.time()\n",
    "for i in range(2000):\n",
    "    d.pop()\n",
    "print(\"---pop(end): %s seconds ---\" % (time.time() - start_time))\n",
    "    "
   ]
  },
  {
   "cell_type": "markdown",
   "id": "93a74d03-deab-4e2b-93b4-99150469b808",
   "metadata": {},
   "source": [
    "# findings:\n",
    "1. assigning a slice is marginally more efficient than del and matters when a million or more ops\n",
    "2. popping the end is faster than deleting the end, and matters when ten thousand or more ops\n",
    "3. del is slow for big loops.\n",
    "   Curious about differences between numpy arrays and python arrays, I googled, found on reddit the following nice summary:\"\n",
    " * Python array:\n",
    "   - the term is \"Python list\"\n",
    "   - usage: everyday plain Python code\n",
    " * NumPy array:\n",
    "    - data manipulation that needs to be fast\n",
    "    - can use Python lists if speed isn't a concern\n",
    "    - supports fast and convenient vectorized functions: write np.sqrt(array) instead of [math.sqrt(number) for number in your_list]\n",
    "    - elegantly handles arbitrary number of dimensions\n",
    " * Pandas dataframe:\n",
    "     - for data wrangling in SQL-like language\n",
    "     - similar to in-memory SQLite database\n",
    "     - supports NumPy's vectorized functions\n",
    "     - basically a glorified NumPy array with column names\n",
    "\" -- credit ForceBru\n",
    "\n"
   ]
  },
  {
   "cell_type": "code",
   "execution_count": 7,
   "id": "2868a8a5-9480-492a-8763-fe6bb285bdda",
   "metadata": {},
   "outputs": [
    {
     "name": "stdout",
     "output_type": "stream",
     "text": [
      "[1 3 5 7 9]\n",
      "2.1.3\n",
      "['T', 'all', 'any', 'argmax', 'argmin', 'argpartition', 'argsort', 'astype', 'base', 'byteswap', 'choose', 'clip', 'compress', 'conj', 'conjugate', 'copy', 'ctypes', 'cumprod', 'cumsum', 'data', 'device', 'diagonal', 'dot', 'dtype', 'dump', 'dumps', 'fill', 'flags', 'flat', 'flatten', 'getfield', 'imag', 'item', 'itemset', 'itemsize', 'mT', 'max', 'mean', 'min', 'nbytes', 'ndim', 'newbyteorder', 'nonzero', 'partition', 'prod', 'ptp', 'put', 'ravel', 'real', 'repeat', 'reshape', 'resize', 'round', 'searchsorted', 'setfield', 'setflags', 'shape', 'size', 'sort', 'squeeze', 'std', 'strides', 'sum', 'swapaxes', 'take', 'to_device', 'tobytes', 'tofile', 'tolist', 'tostring', 'trace', 'transpose', 'var', 'view']\n",
      "<class 'numpy.ndarray'>\n"
     ]
    }
   ],
   "source": [
    "import numpy as np\n",
    "ar = np.array([1,3,5,7,9])\n",
    "print(ar)\n",
    "print(np.__version__)\n",
    "ar_fns = []\n",
    "for fn in dir(ar):\n",
    "    if not '__' in fn:\n",
    "        ar_fns.append(fn)\n",
    "print(ar_fns)\n",
    "print(type(ar))"
   ]
  },
  {
   "cell_type": "code",
   "execution_count": 59,
   "id": "18736af3-382e-45cf-9a1a-1f053761b00b",
   "metadata": {},
   "outputs": [
    {
     "name": "stdout",
     "output_type": "stream",
     "text": [
      "---0d---\n",
      "42\n",
      "---1d---\n",
      "1234\n",
      "--2d----\n",
      "123\n",
      "456\n",
      "--3d----\n",
      "z0:\n",
      "\t   y0 y1 \n",
      "\tx0:[1 2]\n",
      "\tx1:[3 4]\n",
      "z1:\n",
      "\t   y0 y1 \n",
      "\tx0:[5 6]\n",
      "\tx1:[7 8]\n"
     ]
    }
   ],
   "source": [
    "# 0d\n",
    "ar0 = np.array(42)\n",
    "#1d \n",
    "ar1 = np.array([1,2,3,4])\n",
    "#2d\n",
    "ar2 = np.array([[1,2,3],[4,5,6]])\n",
    "#3d\n",
    "ar3 = np.array([[[1,2],[3,4]],[[5,6],[7,8]]])\n",
    "print('---0d---')\n",
    "print(ar0)\n",
    "print('---1d---')\n",
    "for el in ar1:\n",
    "    print(el, end='')\n",
    "print('')\n",
    "print('--2d----')\n",
    "for line in ar2:\n",
    "    for el in line:\n",
    "        print(el, end='')\n",
    "    print('')\n",
    "print('--3d----')\n",
    "for layer, z in enumerate(ar3):\n",
    "    print('z'+str(layer)+':')\n",
    "    print('',end='\\t   ')\n",
    "    for k in range(0, 2):\n",
    "        print('y'+str(k), end=' ')\n",
    "    print('')\n",
    "    for line, x in enumerate(z):\n",
    "        print('\\tx'+str(line)+':'+str(x))\n",
    "    "
   ]
  },
  {
   "cell_type": "code",
   "execution_count": 65,
   "id": "43e0c67a-3268-4ca0-a9d5-13ad7519607b",
   "metadata": {},
   "outputs": [
    {
     "name": "stdout",
     "output_type": "stream",
     "text": [
      "ndim attribute provides the number of dimensions of an array\n",
      "0 1 2 3 4 5\n",
      "a 5d cube is known as a penteract.\n"
     ]
    }
   ],
   "source": [
    "print(\"ndim attribute provides the number of dimensions of an array\")\n",
    "ar4 = np.array([ar3, ar3]) #  hypercube with sides of length 2\n",
    "ar5 = np.array([ar4, ar4]) #  penteract with sides of length 2\n",
    "print(ar0.ndim, ar1.ndim, ar2.ndim, ar3.ndim, ar4.ndim, ar5.ndim)\n",
    "print('a 5d cube is known as a penteract.')"
   ]
  },
  {
   "cell_type": "code",
   "execution_count": 71,
   "id": "e304f939-bf8c-429b-beb1-f3e88e2f4394",
   "metadata": {},
   "outputs": [
    {
     "name": "stdout",
     "output_type": "stream",
     "text": [
      "You can specify the number of dimensions for an array when creating it using ndmin arg like np.array([1,2,3,4], ndmin=6)\n",
      "[[[[[[1 2 3 4]]]]]]\n",
      "Note that it doesn't fill out the array - just 'embeds' what you give it in that 'space'.\n",
      "Dimensions:  6\n",
      "but it does now show as having that many dimensions\n"
     ]
    }
   ],
   "source": [
    "print(\"You can specify the number of dimensions for an array when creating it using ndmin arg like np.array([1,2,3,4], ndmin=6)\")\n",
    "ar6 = np.array([1,2,3,4], ndmin=6)\n",
    "print(ar6)\n",
    "print(\"Note that it doesn't fill out the array - just 'embeds' what you give it in that 'space'.\")\n",
    "print(\"Dimensions: \", ar6.ndim)\n",
    "print(\"but it does now show as having that many dimensions\")\n"
   ]
  },
  {
   "cell_type": "code",
   "execution_count": 76,
   "id": "57e6e1fb-d307-4aac-b01d-4f55481a4075",
   "metadata": {},
   "outputs": [
    {
     "name": "stdout",
     "output_type": "stream",
     "text": [
      "You can also provide a dtype argument, like np.array([1,2,3,4], dtype='int')\n",
      "Array janet:  [1 2 3 4]\n",
      "when I try and create mark, it breaks with a value error like this.\n"
     ]
    }
   ],
   "source": [
    "print(\"You can also provide a dtype argument, like np.array([1,2,3,4], dtype='int')\")\n",
    "janet = np.array([1,2,3,4], dtype='int') # valid\n",
    "print(\"Array janet: \",janet)\n",
    "try:\n",
    "    mark = np.array([1,2,3,'a'], dtype='int') #breaks\n",
    "except ValueError:\n",
    "    print(\"when I try and create mark, it breaks with a value error like this.\")"
   ]
  },
  {
   "cell_type": "markdown",
   "id": "10b3b5d0-2d63-408c-a5d7-9773338ded9f",
   "metadata": {},
   "source": [
    "numpy data types:\n",
    "i - integer\n",
    "b - boolean\n",
    "u - unsigned integer\n",
    "f - float\n",
    "c - complex float\n",
    "m - timedelta\n",
    "M - datetime\n",
    "O - object\n",
    "S - string\n",
    "U - unicode string\n",
    "V - fixed chunk of memory for other type ( void )"
   ]
  },
  {
   "cell_type": "code",
   "execution_count": 79,
   "id": "201dde29-009b-4689-856a-5e5d4f59638d",
   "metadata": {},
   "outputs": [
    {
     "name": "stdout",
     "output_type": "stream",
     "text": [
      "You can cast a numpy array with astype if it can be converted.\n",
      "[1 2 3]\n",
      "int32\n",
      "[ True False  True]\n",
      "bool\n"
     ]
    }
   ],
   "source": [
    "arr = np.array([1.1, 2.1, 3.1])\n",
    "\n",
    "print(\"You can cast a numpy array with astype if it can be converted.\")\n",
    "newarr = arr.astype('i')\n",
    "\n",
    "print(newarr)\n",
    "print(newarr.dtype)\n",
    "\n",
    "arr = np.array([1, 0, 3])\n",
    "\n",
    "newarr = arr.astype(bool)\n",
    "\n",
    "print(newarr)\n",
    "print(newarr.dtype)"
   ]
  },
  {
   "cell_type": "code",
   "execution_count": 82,
   "id": "f1ca5206-27c7-4ae8-8126-67f9d401d0a7",
   "metadata": {},
   "outputs": [
    {
     "name": "stdout",
     "output_type": "stream",
     "text": [
      "\n",
      "a copy makes a copy, a view accesses the original:\n",
      "arr = np.array([1, 2, 3, 4, 5])\n",
      "x = arr.copy()\n",
      "y = arr.view()\n",
      "arr[0] = 42\n",
      "y[1] = 8\n",
      "print(arr, x, y)\n",
      "print(x.base) # returns none if the obj owns it's data\n",
      "print(y.base) # returns original obj otherwise\n",
      "results:\n",
      "\n",
      "[42  8  3  4  5] [1 2 3 4 5] [42  8  3  4  5]\n",
      "x base:  None\n",
      "y base:  [42  8  3  4  5]\n"
     ]
    }
   ],
   "source": [
    "print(\"\"\"\n",
    "a copy makes a copy, a view accesses the original:\n",
    "arr = np.array([1, 2, 3, 4, 5])\n",
    "x = arr.copy()\n",
    "y = arr.view()\n",
    "arr[0] = 42\n",
    "y[1] = 8\n",
    "print(arr, x, y)\n",
    "print(x.base) # returns none if the obj owns it's data\n",
    "print(y.base) # returns original obj otherwise\n",
    "results:\n",
    "\"\"\")\n",
    "arr = np.array([1, 2, 3, 4, 5])\n",
    "x = arr.copy()\n",
    "y = arr.view()\n",
    "arr[0] = 42\n",
    "y[1] = 8\n",
    "print(arr, x, y)\n",
    "print(\"x base: \",x.base)\n",
    "print(\"y base: \",y.base)"
   ]
  },
  {
   "cell_type": "code",
   "execution_count": 85,
   "id": "1af60b79-0575-49be-bc51-08f3fa647287",
   "metadata": {},
   "outputs": [
    {
     "name": "stdout",
     "output_type": "stream",
     "text": [
      "\n",
      "shape gives an array with the lengths of the dimensions of an array: \n",
      "arr = np.array([[1, 2, 3, 4], [5, 6, 7, 8]])\n",
      "print(arr.shape)\n",
      "arr2 = np.array([[[1,2],[3,4]],[[5,6],[7,8]]]])\n",
      "print(arr2.shape)\n",
      "\n",
      "(2, 4)\n",
      "(2, 2, 2)\n"
     ]
    }
   ],
   "source": [
    "print(\"\"\"\n",
    "shape gives an array with the lengths of the dimensions of an array: \n",
    "arr = np.array([[1, 2, 3, 4], [5, 6, 7, 8]])\n",
    "print(arr.shape)\n",
    "arr2 = np.array([[[1,2],[3,4]],[[5,6],[7,8]]]])\n",
    "print(arr2.shape)\n",
    "\"\"\")\n",
    "arr = np.array([[1, 2, 3, 4], [5, 6, 7, 8]])\n",
    "print(arr.shape)\n",
    "arr2 = np.array([[[1,2],[3,4]],[[5,6],[7,8]]])\n",
    "print(arr2.shape)"
   ]
  },
  {
   "cell_type": "code",
   "execution_count": 86,
   "id": "fc5a5ccb-8d08-4a5b-9757-1641e752f270",
   "metadata": {},
   "outputs": [
    {
     "name": "stdout",
     "output_type": "stream",
     "text": [
      "[[[[[1 2 3 4]]]]]\n",
      "shape of array : (1, 1, 1, 1, 4)\n"
     ]
    }
   ],
   "source": [
    "arr = np.array([1, 2, 3, 4], ndmin=5)\n",
    "\n",
    "print(arr)\n",
    "print('shape of array :', arr.shape)"
   ]
  },
  {
   "cell_type": "code",
   "execution_count": 87,
   "id": "3eead23e-47d1-453c-9d87-b723bfaa3a20",
   "metadata": {},
   "outputs": [
    {
     "name": "stdout",
     "output_type": "stream",
     "text": [
      "self explanatory: \n",
      "arr = np.array([1, 2, 3, 4, 5, 6, 7, 8, 9, 10, 11, 12])\n",
      "newarr = arr.reshape(4,3)\n",
      "[[ 1  2  3]\n",
      " [ 4  5  6]\n",
      " [ 7  8  9]\n",
      " [10 11 12]]\n",
      "arr = np.array([1, 2, 3, 4, 5, 6, 7, 8, 9, 10, 11, 12])\n",
      "newarr = arr.reshape(2, 3, 2)\n",
      "[[[ 1  2]\n",
      "  [ 3  4]\n",
      "  [ 5  6]]\n",
      "\n",
      " [[ 7  8]\n",
      "  [ 9 10]\n",
      "  [11 12]]]\n"
     ]
    }
   ],
   "source": [
    "print(\"self explanatory: \")\n",
    "arr = np.array([1, 2, 3, 4, 5, 6, 7, 8, 9, 10, 11, 12])\n",
    "print(\"arr = np.array([1, 2, 3, 4, 5, 6, 7, 8, 9, 10, 11, 12])\")\n",
    "newarr = arr.reshape(4, 3)\n",
    "print(\"newarr = arr.reshape(4,3)\")\n",
    "print(newarr)\n",
    "print(\"arr = np.array([1, 2, 3, 4, 5, 6, 7, 8, 9, 10, 11, 12])\")\n",
    "arr = np.array([1, 2, 3, 4, 5, 6, 7, 8, 9, 10, 11, 12])\n",
    "print(\"newarr = arr.reshape(2, 3, 2)\")\n",
    "newarr = arr.reshape(2, 3, 2)\n",
    "print(newarr)\n"
   ]
  },
  {
   "cell_type": "code",
   "execution_count": 88,
   "id": "1d4c6c5a-5e87-4dc6-96f6-4ca532e3a5ed",
   "metadata": {},
   "outputs": [
    {
     "name": "stdout",
     "output_type": "stream",
     "text": [
      "You can't reshape an array to an array that has the wrong number of elements, \n",
      "    it throws a value error.\n"
     ]
    }
   ],
   "source": [
    "try:\n",
    "    arr = np.array([1, 2, 3, 4, 5, 6, 7, 8])\n",
    "    newarr = arr.reshape(3, 3)\n",
    "    print(newarr)\n",
    "except ValueError:\n",
    "    print(\"\"\"You can't reshape an array to an array that has the wrong number of elements, \n",
    "    it throws a value error.\"\"\")\n"
   ]
  },
  {
   "cell_type": "code",
   "execution_count": 91,
   "id": "9e9b3b8c-d1e4-4b38-9d52-2aa1646d53cf",
   "metadata": {},
   "outputs": [
    {
     "name": "stdout",
     "output_type": "stream",
     "text": [
      "\n",
      "A reshaped array is just a view of the original.\n",
      "arr = np.array([1, 2, 3, 4, 5, 6, 7, 8])\n",
      "arr2 = arr.reshape(2, 4)\n",
      "print(arr2)\n",
      "print(arr2.base)\n",
      "arr2[0] = 4\n",
      "print(arr)\n",
      "arr[0] = 1\n",
      "print(arr)\n",
      "print(arr2)\n",
      "\n",
      "[[1 2 3 4]\n",
      " [5 6 7 8]]\n",
      "[1 2 3 4 5 6 7 8]\n",
      "[4 4 4 4 5 6 7 8]\n",
      "[1 4 4 4 5 6 7 8]\n",
      "[[1 4 4 4]\n",
      " [5 6 7 8]]\n"
     ]
    }
   ],
   "source": [
    "print(\"\"\"\n",
    "A reshaped array is just a view of the original.\n",
    "arr = np.array([1, 2, 3, 4, 5, 6, 7, 8])\n",
    "arr2 = arr.reshape(2, 4)\n",
    "print(arr2)\n",
    "print(arr2.base)\n",
    "arr2[0] = 4\n",
    "print(arr)\n",
    "arr[0] = 1\n",
    "print(arr)\n",
    "print(arr2)\n",
    "\"\"\")\n",
    "arr = np.array([1, 2, 3, 4, 5, 6, 7, 8])\n",
    "arr2 = arr.reshape(2, 4)\n",
    "print(arr2)\n",
    "print(arr2.base)\n",
    "arr2[0] = 4\n",
    "print(arr)\n",
    "arr[0] = 1\n",
    "print(arr)\n",
    "print(arr2)"
   ]
  },
  {
   "cell_type": "code",
   "execution_count": 92,
   "id": "1dd78a88-715a-4e2e-8d68-27bdbc20522b",
   "metadata": {},
   "outputs": [
    {
     "name": "stdout",
     "output_type": "stream",
     "text": [
      "[3, [5, 6, 7, 8]]\n"
     ]
    }
   ],
   "source": [
    "arr = [[1,2,3,4],[5,6,7,8]]\n",
    "arr[0] = 3\n",
    "print(arr)"
   ]
  },
  {
   "cell_type": "code",
   "execution_count": 94,
   "id": "cd99087f-fd5b-495d-aacb-eaeb0aeebb52",
   "metadata": {},
   "outputs": [
    {
     "name": "stdout",
     "output_type": "stream",
     "text": [
      "\n",
      "nditer is a numpy helper function which lets you print out \n",
      "every item in a high dimensional array without nested loops.\n",
      "arr = np.array([[[1, 2], [3, 4]], [[5, 6], [7, 8]]])\n",
      "for x in np.nditer(arr):\n",
      "  print(x)\n",
      "\n",
      "1\n",
      "2\n",
      "3\n",
      "4\n",
      "5\n",
      "6\n",
      "7\n",
      "8\n"
     ]
    }
   ],
   "source": [
    "print(\"\"\"\n",
    "nditer is a numpy helper function which lets you print out \n",
    "every item in a high dimensional array without nested loops.\n",
    "arr = np.array([[[1, 2], [3, 4]], [[5, 6], [7, 8]]])\n",
    "for x in np.nditer(arr):\n",
    "  print(x)\n",
    "\"\"\")\n",
    "arr = np.array([[[1, 2], [3, 4]], [[5, 6], [7, 8]]])\n",
    "for x in np.nditer(arr):\n",
    "  print(x)"
   ]
  },
  {
   "cell_type": "code",
   "execution_count": 102,
   "id": "c9b02399-5766-4d62-8595-3a1d3e7e0dec",
   "metadata": {},
   "outputs": [
    {
     "name": "stdout",
     "output_type": "stream",
     "text": [
      "np.bytes_(b'1')\n",
      "np.bytes_(b'2')\n",
      "np.bytes_(b'3')\n",
      "np.bytes_(b'0')\n",
      "np.bytes_(b'-1')\n",
      "np.bytes_(b'10')\n",
      "np.bytes_(b'2')\n",
      "You can't cast from int to bool with nditer, it's a bit more typesafe.\n",
      "You can manually cast them like this though: \n",
      "True\n",
      "True\n",
      "True\n",
      "False\n",
      "True\n",
      "True\n",
      "True\n"
     ]
    }
   ],
   "source": [
    "arr = np.array([1, 2, 3, 0, -1, 10, 2])\n",
    "# the 'buffered' flag creates a memory space to convert datatypes while iterating\n",
    "for x in np.nditer(arr, flags=['buffered'], op_dtypes=['S']):\n",
    "  print(x)\n",
    "try:\n",
    "  for x in np.nditer(arr, flags=['buffered'], op_dtypes=['bool']):\n",
    "    print(x)\n",
    "except TypeError:\n",
    "    print(\"You can't cast from int to bool with nditer, it's a bit more typesafe.\")\n",
    "print(\"You can manually cast them like this though: \")\n",
    "for x in np.nditer(arr):\n",
    "   print(bool(x))"
   ]
  },
  {
   "cell_type": "code",
   "execution_count": 104,
   "id": "7408b702-3d04-405f-827c-2d00ba888376",
   "metadata": {},
   "outputs": [
    {
     "name": "stdout",
     "output_type": "stream",
     "text": [
      "iterate over every other element, converting all to strings\n",
      "np.bytes_(b'1')\n",
      "np.bytes_(b'3')\n",
      "np.bytes_(b'5')\n",
      "np.bytes_(b'7')\n"
     ]
    }
   ],
   "source": [
    "arr = np.array([[1, 2, 3, 4], [5, 6, 7, 8]])\n",
    "print(\"iterate over every other element, converting all to strings\")\n",
    "for x in np.nditer(arr[:, ::2], flags=['buffered'], op_dtypes=['S']):\n",
    "  print(x)"
   ]
  },
  {
   "cell_type": "code",
   "execution_count": 105,
   "id": "85fb4185-c4fb-4e2a-ae7c-e9cbb42d3a4b",
   "metadata": {},
   "outputs": [
    {
     "name": "stdout",
     "output_type": "stream",
     "text": [
      "(0,) 1\n",
      "(1,) 2\n",
      "(2,) 3\n",
      "(0, 0) 1\n",
      "(0, 1) 2\n",
      "(0, 2) 3\n",
      "(0, 3) 4\n",
      "(1, 0) 5\n",
      "(1, 1) 6\n",
      "(1, 2) 7\n",
      "(1, 3) 8\n"
     ]
    }
   ],
   "source": [
    "arr = np.array([1, 2, 3])\n",
    "\n",
    "for idx, x in np.ndenumerate(arr):\n",
    "  print(idx, x)\n",
    "arr = np.array([[1, 2, 3, 4], [5, 6, 7, 8]])\n",
    "\n",
    "for idx, x in np.ndenumerate(arr):\n",
    "  print(idx, x)"
   ]
  },
  {
   "cell_type": "code",
   "execution_count": 110,
   "id": "43b3d858-06b0-493f-bf9d-d0d8f4471479",
   "metadata": {},
   "outputs": [
    {
     "name": "stdout",
     "output_type": "stream",
     "text": [
      "numpy's concatenate function combines two numpy ndarrays\n",
      "<class 'numpy.ndarray'>\n"
     ]
    }
   ],
   "source": [
    "arr1 = np.array([1, 2, 3])\n",
    "\n",
    "arr2 = np.array([4, 5, 6])\n",
    "\n",
    "arr = np.concatenate((arr1, arr2))\n",
    "\n",
    "print(\"numpy's concatenate function combines two numpy ndarrays\")\n",
    "print(type(arr))"
   ]
  },
  {
   "cell_type": "code",
   "execution_count": 118,
   "id": "b5b4365d-90ec-427d-872c-b7f195970797",
   "metadata": {},
   "outputs": [
    {
     "name": "stdout",
     "output_type": "stream",
     "text": [
      "[[1 2]\n",
      " [3 4]\n",
      " [5 6]\n",
      " [7 8]]\n",
      "[[1 2 5 6]\n",
      " [3 4 7 8]]\n",
      "[[[1 2]\n",
      "  [3 4]]]\n",
      "[[[5 6]\n",
      "  [7 8]]]\n",
      "\n",
      "[[[1 2 5 6]\n",
      "  [3 4 7 8]]]\n"
     ]
    }
   ],
   "source": [
    "arr1 = np.array([[1, 2], [3, 4]])\n",
    "\n",
    "arr2 = np.array([[5, 6], [7, 8]])\n",
    "\n",
    "arr3 = np.concatenate((arr1, arr2), axis=0)\n",
    "arr4 = np.concatenate((arr1, arr2), axis=1)\n",
    "arr6 = np.array(arr1, ndmin=3)\n",
    "arr7 = np.array(arr2, ndmin=3)\n",
    "print(arr3)\n",
    "print(arr4)\n",
    "print(arr6)\n",
    "print(arr7)\n",
    "arr8 = np.concatenate((arr6,arr7), axis=2)\n",
    "print()\n",
    "print(arr8)"
   ]
  },
  {
   "cell_type": "code",
   "execution_count": 129,
   "id": "e01936af-aadd-4ed7-a346-73ac16cc9e25",
   "metadata": {},
   "outputs": [
    {
     "name": "stdout",
     "output_type": "stream",
     "text": [
      "\n",
      "Stacking is same as concatenation, the only difference is \n",
      "that stacking is done along a new axis.\n",
      "We can concatenate two 1-D arrays along the second axis which \n",
      "would result in putting them one over the other, ie. stacking.\n",
      "We pass a sequence of arrays that we want to join to the stack() \n",
      "method along with the axis. If axis is not explicitly passed it is taken as 0.\n",
      "\n",
      "[[1 4]\n",
      " [2 5]\n",
      " [3 6]] \n",
      "------------------\n",
      " [[1 2 3]\n",
      " [4 5 6]] \n",
      "------------------\n",
      " [[[1 2]]\n",
      "\n",
      " [[3 4]]\n",
      "\n",
      " [[5 6]]] \n",
      "------------------\n",
      " [[[[1 2]\n",
      "   [1 2]]]\n",
      "\n",
      "\n",
      " [[[3 4]\n",
      "   [3 4]]]\n",
      "\n",
      "\n",
      " [[[5 6]\n",
      "   [5 6]]]]\n",
      "4\n"
     ]
    }
   ],
   "source": [
    "print(\"\"\"\n",
    "Stacking is same as concatenation, the only difference is \n",
    "that stacking is done along a new axis.\n",
    "We can concatenate two 1-D arrays along the second axis which \n",
    "would result in putting them one over the other, ie. stacking.\n",
    "We pass a sequence of arrays that we want to join to the stack() \n",
    "method along with the axis. If axis is not explicitly passed it is taken as 0.\n",
    "\"\"\")\n",
    "arr1 = np.array([1, 2, 3])\n",
    "arr2 = np.array([4, 5, 6])\n",
    "arr = np.stack((arr1, arr2), axis=1)\n",
    "arr3 = np.stack((arr1, arr2), axis=0)\n",
    "arr4 = arr3.reshape(3,1,2)\n",
    "arr5 = np.stack((arr4, arr4), axis=2)\n",
    "print(arr,'\\n------------------\\n',arr3,'\\n------------------\\n',arr4,'\\n------------------\\n',arr5)\n",
    "print(arr5.ndim)"
   ]
  },
  {
   "cell_type": "code",
   "execution_count": 131,
   "id": "c201f427-5220-4ba2-a79d-a443713678cb",
   "metadata": {},
   "outputs": [
    {
     "name": "stdout",
     "output_type": "stream",
     "text": [
      "numpy provides some convenience functions for stacking along x and y: vstack and dstack\n",
      "They are identical to picking axis 0 and axis 1, respectively.\n",
      "arr1 = np.array([1, 2, 3])\n",
      "\n",
      "arr2 = np.array([4, 5, 6])\n",
      "\n",
      "arr = np.vstack((arr1, arr2))\n",
      "arr3 = np.stack((arr1, arr2), axis=0)\n",
      "arr4 = np.dstack((arr1, arr2))\n",
      "arr5 = np.stack((arr1, arr2), axis=1)\n",
      "print(arr)\n",
      "print(arr3)\n",
      "print(arr4)\n",
      "print(arr5)\n",
      "\n",
      "[[1 2 3]\n",
      " [4 5 6]]\n",
      "[[1 2 3]\n",
      " [4 5 6]]\n",
      "[[[1 4]\n",
      "  [2 5]\n",
      "  [3 6]]]\n",
      "[[1 4]\n",
      " [2 5]\n",
      " [3 6]]\n"
     ]
    }
   ],
   "source": [
    "print(\"\"\"numpy provides some convenience functions for stacking along x and y: vstack and dstack\n",
    "They are identical to picking axis 0 and axis 1, respectively.\n",
    "arr1 = np.array([1, 2, 3])\n",
    "\n",
    "arr2 = np.array([4, 5, 6])\n",
    "\n",
    "arr = np.vstack((arr1, arr2))\n",
    "arr3 = np.stack((arr1, arr2), axis=0)\n",
    "arr4 = np.dstack((arr1, arr2))\n",
    "arr5 = np.stack((arr1, arr2), axis=1)\n",
    "print(arr)\n",
    "print(arr3)\n",
    "print(arr4)\n",
    "print(arr5)\n",
    "\"\"\")\n",
    "arr1 = np.array([1, 2, 3])\n",
    "\n",
    "arr2 = np.array([4, 5, 6])\n",
    "\n",
    "arr = np.vstack((arr1, arr2))\n",
    "arr3 = np.stack((arr1, arr2), axis=0)\n",
    "arr4 = np.dstack((arr1, arr2))\n",
    "arr5 = np.stack((arr1, arr2), axis=1)\n",
    "print(arr)\n",
    "print(arr3)\n",
    "print(arr4)\n",
    "print(arr5)"
   ]
  },
  {
   "cell_type": "code",
   "execution_count": 139,
   "id": "c7ec7698-fa3b-4c19-998c-8724b56e855f",
   "metadata": {},
   "outputs": [
    {
     "name": "stdout",
     "output_type": "stream",
     "text": [
      "arr = np.array([1,3,5,7,7,7,9,11,13,15])\n",
      "print(arr.searchsorted(5)) # returns the first position where 5 should be inserted to maintain sort order.\n",
      "print(arr.searchsorted(7, side='right')) # returns the first position where 6 should be inserted to maintain sort order, searching from the right\n",
      "print(arr.searchsorted(7)) # and the normal way to compare\n",
      "print(arr.searchsorted([7,9,15]) # you can search for more than one value.\n",
      "print(arr.searchsorted([7,9,15], side='right')) # you can search for more than one value from the right\n",
      "\n",
      "2\n",
      "6\n",
      "3\n",
      "[3 6 9]\n",
      "[ 6  7 10]\n"
     ]
    }
   ],
   "source": [
    "print(\"\"\"arr = np.array([1,3,5,7,7,7,9,11,13,15])\n",
    "print(arr.searchsorted(5)) # returns the first position where 5 should be inserted to maintain sort order.\n",
    "print(arr.searchsorted(7, side='right')) # returns the first position where 6 should be inserted to maintain sort order, searching from the right\n",
    "print(arr.searchsorted(7)) # and the normal way to compare\n",
    "print(arr.searchsorted([7,9,15]) # you can search for more than one value.\n",
    "print(arr.searchsorted([7,9,15], side='right')) # you can search for more than one value from the right\n",
    "\"\"\")\n",
    "arr = np.array([1,3,5,7,7,7,9,11,13,15])\n",
    "print(arr.searchsorted(5)) # returns the first position where 5 should be inserted to maintain sort order.\n",
    "print(arr.searchsorted(7, side='right')) # returns the first position where 6 should be inserted to maintain sort order, searching from the right\n",
    "print(arr.searchsorted(7)) # and the normal way to compare\n",
    "print(arr.searchsorted([7,9,15])) # you can search for more than one value.\n",
    "print(arr.searchsorted([7,9,15], side='right')) # you can search for more than one value from the right"
   ]
  },
  {
   "cell_type": "code",
   "execution_count": 143,
   "id": "40661e05-1030-4038-9256-e0725cb92223",
   "metadata": {},
   "outputs": [
    {
     "name": "stdout",
     "output_type": "stream",
     "text": [
      "\n",
      "arr = np.array([41, 42, 43, 44])\n",
      "\n",
      "filtered = arr[[True, False, True, True]]\n",
      "filtered2 = arr[arr > 42]\n",
      "print(filtered, filtered2)\n",
      "# np lets you filter on array by a boolean filter \n",
      "# values set to false are excluded. a smaller array is returned of just\n",
      "# those values which had a corresponding 'true' in the boolean filter\n",
      "# typically this filter is made on the fly via some function\n",
      "arr = np.array([1, 2, 3, 4, 5, 6, 7])\n",
      "\n",
      "# Create an empty list\n",
      "filter_arr = []\n",
      "\n",
      "# go through each element in arr\n",
      "for element in arr:\n",
      "  # if the element is completely divisble by 2, set the value to True, otherwise False\n",
      "  if element % 2 == 0:\n",
      "    filter_arr.append(True)\n",
      "  else:\n",
      "    filter_arr.append(False)\n",
      "\n",
      "newarr = arr[filter_arr]\n",
      "\n",
      "print(filter_arr)\n",
      "print(newarr)\n",
      "\n",
      "[41 43 44] [43 44]\n",
      "[False, True, False, True, False, True, False]\n",
      "[2 4 6]\n"
     ]
    }
   ],
   "source": [
    "print(\"\"\"\n",
    "arr = np.array([41, 42, 43, 44])\n",
    "\n",
    "filtered = arr[[True, False, True, True]]\n",
    "filtered2 = arr[arr > 42]\n",
    "print(filtered, filtered2)\n",
    "# np lets you filter on array by a boolean filter \n",
    "# values set to false are excluded. a smaller array is returned of just\n",
    "# those values which had a corresponding 'true' in the boolean filter\n",
    "# typically this filter is made on the fly via some function\n",
    "arr = np.array([1, 2, 3, 4, 5, 6, 7])\n",
    "\n",
    "# Create an empty list\n",
    "filter_arr = []\n",
    "\n",
    "# go through each element in arr\n",
    "for element in arr:\n",
    "  # if the element is completely divisble by 2, set the value to True, otherwise False\n",
    "  if element % 2 == 0:\n",
    "    filter_arr.append(True)\n",
    "  else:\n",
    "    filter_arr.append(False)\n",
    "\n",
    "newarr = arr[filter_arr]\n",
    "\n",
    "print(filter_arr)\n",
    "print(newarr)\n",
    "\"\"\")\n",
    "arr = np.array([41, 42, 43, 44])\n",
    "\n",
    "filtered = arr[[True, False, True, True]]\n",
    "filtered2 = arr[arr > 42]\n",
    "print(filtered, filtered2)\n",
    "# np lets you filter on array by a boolean filter \n",
    "# values set to false are excluded. a smaller array is returned of just\n",
    "# those values which had a corresponding 'true' in the boolean filter\n",
    "# typically this filter is made on the fly via some function\n",
    "arr = np.array([1, 2, 3, 4, 5, 6, 7])\n",
    "\n",
    "# Create an empty list\n",
    "filter_arr = []\n",
    "\n",
    "# go through each element in arr\n",
    "for element in arr:\n",
    "  # if the element is completely divisble by 2, set the value to True, otherwise False\n",
    "  if element % 2 == 0:\n",
    "    filter_arr.append(True)\n",
    "  else:\n",
    "    filter_arr.append(False)\n",
    "\n",
    "newarr = arr[filter_arr]\n",
    "\n",
    "print(filter_arr)\n",
    "print(newarr)"
   ]
  },
  {
   "cell_type": "code",
   "execution_count": 153,
   "id": "ecdc381a-29d0-4506-9b83-769bcd094ba2",
   "metadata": {},
   "outputs": [
    {
     "name": "stdout",
     "output_type": "stream",
     "text": [
      "[[45 39 10 98]\n",
      " [16 55 12 35]\n",
      " [22 85 92 42]]\n",
      "[[[[[[0.32380218]]]]]\n",
      "\n",
      "\n",
      "\n",
      "\n",
      " [[[[[0.02391214]]]]]]\n",
      "[0.32380218 0.02391214]\n",
      "[[[[[[0.32380218]]]]]\n",
      "\n",
      "\n",
      "\n",
      "\n",
      " [[[[[0.02391214]]]]]]\n"
     ]
    }
   ],
   "source": [
    "from numpy import random\n",
    "\n",
    "arr = random.randint(100, size=(3,4))\n",
    "print(arr)\n",
    "arr = random.rand(2,1,1,1,1,1) # 6 dimensional array, with 2 numbers along one axis\n",
    "print(arr)\n",
    "\n",
    "arr = arr.reshape(2) # reduce to 2d array\n",
    "print(arr)\n",
    "arr = np.array(arr, ndmin=6)\n",
    "print(arr.reshape(2,1,1,1,1,1)) # embedded back into 6d space."
   ]
  },
  {
   "cell_type": "code",
   "execution_count": null,
   "id": "28dba79b-e93e-41b4-85d2-2252f99b701c",
   "metadata": {},
   "outputs": [],
   "source": []
  }
 ],
 "metadata": {
  "kernelspec": {
   "display_name": "Python 3 (ipykernel)",
   "language": "python",
   "name": "python3"
  },
  "language_info": {
   "codemirror_mode": {
    "name": "ipython",
    "version": 3
   },
   "file_extension": ".py",
   "mimetype": "text/x-python",
   "name": "python",
   "nbconvert_exporter": "python",
   "pygments_lexer": "ipython3",
   "version": "3.10.12"
  }
 },
 "nbformat": 4,
 "nbformat_minor": 5
}
