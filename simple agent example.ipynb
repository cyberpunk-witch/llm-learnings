{
 "cells": [
  {
   "cell_type": "markdown",
   "id": "0bba997f-51a6-4b2a-b208-c0a2f3d38979",
   "metadata": {},
   "source": [
    "# Simple Agent Example\n",
    "- tested on jupyter lab on wsl in windows 11. probably works okay most places.\n",
    "- will require a running ollama server that has qwen3:1.7b installed (or whatever agent you decide)\n",
    "- you don't really even need the langchain_core.messages stuff, as long as there's some kind of a message history in a list it can access, it should work fine.\n",
    "- Relevant docs:\n",
    "    * https://langchain-ai.github.io/langgraph/reference/agents\n",
    "    * https://ollama.com/library/qwen3:1.7b"
   ]
  },
  {
   "cell_type": "code",
   "execution_count": null,
   "id": "61d7553c-57a8-4586-bafb-a27e0037f05d",
   "metadata": {},
   "outputs": [],
   "source": [
    "%pip install langgraph\n",
    "%pip install -qU langchain-ollama langchain-community duckduckgo-search\n",
    "\n",
    "import asyncio, random\n",
    "from langgraph.prebuilt import create_react_agent\n",
    "from langchain_ollama.chat_models import ChatOllama\n",
    "from langgraph.graph import MessagesState\n",
    "from langchain_community.tools import DuckDuckGoSearchRun\n",
    "\n",
    "from langchain_core.messages import (\n",
    "    AIMessage,\n",
    "    HumanMessage,\n",
    "    SystemMessage,\n",
    "    ToolMessage,\n",
    "    trim_messages,\n",
    ")\n",
    "from langchain_core.messages.utils import count_tokens_approximately"
   ]
  },
  {
   "cell_type": "code",
   "execution_count": null,
   "id": "62675195-8030-47a0-81b4-a023e71200ce",
   "metadata": {},
   "outputs": [],
   "source": [
    "def tool_example():\n",
    "    \"\"\"\n",
    "    tool_example is a demo agentic tool\n",
    "    args: \n",
    "        - none\n",
    "    returns:\n",
    "        - a string of text. \n",
    "    \"\"\"\n",
    "    print(\"executing tool.\")\n",
    "    return \"Demo tool run succesfully.\"\n",
    "\n",
    "search = DuckDuckGoSearchRun()\n",
    "llm = ChatOllama(model=\"qwen3:1.7b\")\n",
    "agent_prompt = \"\"\"You are a helpful intelligent agent.\"\"\"\n",
    "\n",
    "agent = create_react_agent(\n",
    "    model=llm,\n",
    "    tools=[search, tool_example],\n",
    "    prompt=agent_prompt\n",
    ")\n"
   ]
  },
  {
   "cell_type": "code",
   "execution_count": null,
   "id": "f0b628fe-9e6e-4faf-9115-30c262289b42",
   "metadata": {},
   "outputs": [],
   "source": [
    "\n",
    "## this holds the entire conversation history fed to the agent for now.\n",
    "messages = []\n",
    "\n",
    "username = input(\"User name: \")\n",
    "greeting = f\"Hello {username}. How can I help you today?\"\n",
    "print(greeting)\n",
    "\n",
    "while True:\n",
    "    try:\n",
    "        user_input = input(\"User: \")\n",
    "        messages = HumanMessage(\"<sender>\"+username+\"</sender><message>\"+user_input+\"</message>\")\n",
    "        result = agent.invoke({\"messages\": messages})\n",
    "        for msg in result[\"messages\"]:\n",
    "            msg.pretty_print()\n",
    "        if user_input.lower() in [\"quit\", \"exit\", \"q\"]:\n",
    "            print(\"Goodbye!\")\n",
    "            break\n",
    "        \n",
    "    except EOFError:\n",
    "        # fallback if input() is not available\n",
    "        user_input = \"Thank you for your service!\"\n",
    "        print(\"User: \" + user_input)\n",
    "        \n",
    "        break\n",
    "    except Exception as e:\n",
    "        print(f\"An error occurred: {e}\")\n",
    "        break\n",
    "\n"
   ]
  },
  {
   "cell_type": "code",
   "execution_count": null,
   "id": "08565675-664e-4cd0-b460-2f3cb72be7a0",
   "metadata": {},
   "outputs": [],
   "source": []
  }
 ],
 "metadata": {
  "kernelspec": {
   "display_name": "Python 3 (ipykernel)",
   "language": "python",
   "name": "python3"
  },
  "language_info": {
   "codemirror_mode": {
    "name": "ipython",
    "version": 3
   },
   "file_extension": ".py",
   "mimetype": "text/x-python",
   "name": "python",
   "nbconvert_exporter": "python",
   "pygments_lexer": "ipython3",
   "version": "3.10.12"
  }
 },
 "nbformat": 4,
 "nbformat_minor": 5
}
