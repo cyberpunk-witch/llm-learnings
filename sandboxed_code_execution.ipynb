{
 "cells": [
  {
   "cell_type": "code",
   "execution_count": null,
   "id": "ca1964d9-2786-4120-bbbe-67346a9c387d",
   "metadata": {},
   "outputs": [],
   "source": []
  },
  {
   "cell_type": "code",
   "execution_count": null,
   "id": "63e23140-4fc9-4cda-b74f-097b442d005b",
   "metadata": {},
   "outputs": [],
   "source": [
    "!pip install -qU langchain-ollama langgraph\n",
    "%pip install -qU duckduckgo-search langchain-community aiopyston\n",
    "from pyston import PystonClient,File\n",
    "import asyncio\n",
    "from langchain_community.tools import DuckDuckGoSearchRun\n",
    "from langgraph.prebuilt import create_react_agent\n",
    "from langchain_ollama.chat_models import ChatOllama\n",
    "from langgraph.graph import MessagesState\n",
    "\n",
    "from langchain_core.messages import (\n",
    "    AIMessage,\n",
    "    HumanMessage,\n",
    "    SystemMessage,\n",
    "    ToolMessage,\n",
    "    trim_messages,\n",
    ")\n",
    "from langchain_core.messages.utils import count_tokens_approximately\n"
   ]
  },
  {
   "cell_type": "code",
   "execution_count": null,
   "id": "dff44ded-8457-401c-9fd4-0c052f5c85fb",
   "metadata": {},
   "outputs": [],
   "source": [
    "recurse = 50 # model recursion limit, update if needed.\n",
    "llm = ChatOllama(model=\"qwen3:1.7b\")\n",
    "search = DuckDuckGoSearchRun()\n",
    "client = PystonClient()\n",
    "privateState = {}\n",
    "\n",
    "async def runCode(code:str):\n",
    "    \"\"\"\n",
    "    sandboxed code environment\n",
    "    args:\n",
    "        - code (str): python code to be run\n",
    "    returns:\n",
    "        - result (str): the result of the code being run\n",
    "    \"\"\"    \n",
    "    try:\n",
    "        result = await client.execute(\"python\", [File(code)])\n",
    "        return result\n",
    "    except Exception as e:\n",
    "        return \"There was an error: \"+e\n",
    "\n",
    "agent_prompt = \"\"\"\n",
    "You are a helpful synthetic agent.\n",
    "\"\"\"\n",
    "\n",
    "agent = create_react_agent(\n",
    "    model=llm,\n",
    "    tools=[search, runCode],\n",
    "    prompt=agent_prompt\n",
    ")\n",
    "\n",
    "messages = []\n",
    "user_input = input(\"User: \")\n",
    "messages.append(HumanMessage(content=user_input, additional_kwargs={}, response_metadata={}))\n",
    "\n",
    "result = await agent.ainvoke({\"messages\": messages})\n",
    "\n",
    "for msg in result[\"messages\"]:\n",
    "    msg.pretty_print()\n"
   ]
  },
  {
   "cell_type": "code",
   "execution_count": null,
   "id": "87307c15-4a43-4606-9a46-c4e39709a1a9",
   "metadata": {},
   "outputs": [],
   "source": []
  },
  {
   "cell_type": "code",
   "execution_count": null,
   "id": "402e8906-1749-47a4-b77e-73cb9b27cdf5",
   "metadata": {},
   "outputs": [],
   "source": []
  }
 ],
 "metadata": {
  "kernelspec": {
   "display_name": "Python 3 (ipykernel)",
   "language": "python",
   "name": "python3"
  },
  "language_info": {
   "codemirror_mode": {
    "name": "ipython",
    "version": 3
   },
   "file_extension": ".py",
   "mimetype": "text/x-python",
   "name": "python",
   "nbconvert_exporter": "python",
   "pygments_lexer": "ipython3",
   "version": "3.10.12"
  }
 },
 "nbformat": 4,
 "nbformat_minor": 5
}
