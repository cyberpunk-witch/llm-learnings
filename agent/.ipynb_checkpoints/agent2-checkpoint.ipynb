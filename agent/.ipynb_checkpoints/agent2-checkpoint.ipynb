{
 "cells": [
  {
   "cell_type": "code",
   "execution_count": 1,
   "id": "739a67c3-39d2-4613-919a-85efdfce5733",
   "metadata": {},
   "outputs": [
    {
     "data": {
      "image/png": "[encoded data removed]",
      "text/plain": [
       "<IPython.core.display.Image object>"
      ]
     },
     "metadata": {},
     "output_type": "display_data"
    }
   ],
   "source": [
    "!pip install -qU langgraph langchain langchain-community langchainhub langchain-core langchain_ollama ddgs\n",
    "from langchain_ollama.chat_models import ChatOllama\n",
    "from langgraph.prebuilt import create_react_agent\n",
    "from langgraph.checkpoint.memory import MemorySaver\n",
    "from typing_extensions import TypedDict\n",
    "from typing import Annotated\n",
    "from langgraph.graph import StateGraph, START, END\n",
    "from langgraph.graph.message import add_messages\n",
    "import sys, os\n",
    "from langchain_core.messages import (\n",
    "    AIMessage,\n",
    "    HumanMessage,\n",
    "    SystemMessage,\n",
    "    AnyMessage,\n",
    "    ToolMessage,\n",
    "    trim_messages,\n",
    ")\n",
    "sys.path.insert(0, '/home/bfhgfe/agent')\n",
    "import Tools.search\n",
    "from Tools.search import search\n",
    "# import Tools.RAG\n",
    "# from Tools.RAG import addToRag, retrieve\n",
    "llm = ChatOllama(model=\"qwen3:1.7b\").bind_tools([search])\n",
    "memory = MemorySaver()\n",
    "\n",
    "whoaminow = \"\"\"\n",
    "You are a professional research scientist.\n",
    "\"\"\"\n",
    "\n",
    "tasks = \"\"\"\n",
    "Steps to take:\n",
    "Identify whether this claim is credible using the search tool to find credible sources\n",
    "crediting or discrediting it.\n",
    "Provide your verdict on this claim's credibility.\n",
    "Cite sources found.\n",
    "\"\"\"\n",
    "\n",
    "taskc = \"\"\"\n",
    "Steps to take:\n",
    "Using the search tool, determine whether the sources provided \n",
    "1. are valid links\n",
    "2. support the verdict provided about the claim.\n",
    "3. are from credible institutions.\n",
    "Based on these findings, provide your verdict on this claim's credibility.\n",
    "\"\"\"\n",
    "\n",
    "whoamimsg = SystemMessage(content=whoaminow, additional_kwargs={}, response_metadata={})\n",
    "tasksmsg = SystemMessage(content=tasks, additional_kwargs={}, response_metadata={})\n",
    "taskcmsg = SystemMessage(content=taskc, additional_kwargs={}, response_metadata={})\n",
    "\n",
    "class State(TypedDict):\n",
    "    messages: Annotated[list, add_messages]\n",
    "\n",
    "graph_builder = StateGraph(State)\n",
    "\n",
    "def chatbots(state: State):\n",
    "    return {\"messages\": [llm.invoke([whoamimsg, tasksmsg, state[\"messages\"][-1]])]}\n",
    "\n",
    "def chatbotc(state: State):\n",
    "    return {\"messages\": [llm.invoke([whoamimsg, taskcmsg, *state[\"messages\"][-2]])]}\n",
    "    \n",
    "# The first argument is the unique node name\n",
    "# The second argument is the function or object that will be called whenever\n",
    "# the node is used.\n",
    "graph_builder.add_node(\"chatbotc\", chatbotc)\n",
    "graph_builder.add_node(\"chatbots\", chatbots)\n",
    "graph_builder.add_edge(START, \"chatbots\")\n",
    "graph_builder.add_edge(\"chatbots\",\"chatbotc\")\n",
    "graph_builder.add_edge(\"chatbotc\", END)\n",
    "graph = graph_builder.compile()\n",
    "from IPython.display import Image, display\n",
    "\n",
    "display(Image(graph.get_graph().draw_mermaid_png()))"
   ]
  },
  {
   "cell_type": "code",
   "execution_count": 2,
   "id": "eebf6b78-743c-44eb-b93c-1a9452fcc607",
   "metadata": {},
   "outputs": [
    {
     "name": "stdin",
     "output_type": "stream",
     "text": [
      "User:  A mile is 5,280 feet.\n"
     ]
    },
    {
     "name": "stdout",
     "output_type": "stream",
     "text": [
      "Assistant: <think>\n",
      "Okay, the user is asking if a mile is 5,280 feet. I need to check the credibility of this claim. From what I know, a mile is indeed 5,280 feet. But I should verify this with reliable sources.\n",
      "\n",
      "I'll use the search tool to look up the definition of a mile. Let me call the search function with the query \"mile feet\" to find credible sources. The results should confirm that a mile is 5,280 feet. I'll check the sources to make sure they're authoritative, like official government websites or reputable educational resources. If the search returns multiple sources stating the same fact, then the claim is credible. If there's conflicting information, I'll need to consider that. But based on standard knowledge, this is correct. So the verdict is that the claim is credible.\n",
      "</think>\n",
      "\n",
      "\n",
      "An error occurred: Unexpected message type: 'content'. Use one of 'human', 'user', 'ai', 'assistant', 'function', 'tool', 'system', or 'developer'.\n",
      "For troubleshooting, visit: https://python.langchain.com/docs/troubleshooting/errors/MESSAGE_COERCION_FAILURE \n"
     ]
    }
   ],
   "source": [
    "def stream_graph_updates(user_input: str):\n",
    "    for event in graph.stream({\"messages\": [{\"role\": \"user\", \"content\": user_input}]}):\n",
    "        for value in event.values():\n",
    "            print(\"Assistant:\", value[\"messages\"][-1].content)\n",
    "\n",
    "while True:\n",
    "    try:\n",
    "        user_input = input(\"User: \")\n",
    "        if user_input.lower() in [\"quit\", \"exit\", \"q\"]:\n",
    "            print(\"Goodbye!\")\n",
    "            break\n",
    "        stream_graph_updates(user_input)\n",
    "    except Exception as e:\n",
    "        exc_type, exc_obj, exc_tb = sys.exc_info()\n",
    "        fname = os.path.split(exc_tb.tb_frame.f_code.co_filename)[1]\n",
    "        print(exc_type, fname, exc_tb.tb_lineno)\n",
    "        print(f\"An error occurred: {e}\")\n",
    "        break"
   ]
  },
  {
   "cell_type": "code",
   "execution_count": null,
   "id": "6a9a1f2c-ba71-465f-a1ef-55a3f9bee141",
   "metadata": {},
   "outputs": [],
   "source": []
  }
 ],
 "metadata": {
  "kernelspec": {
   "display_name": "Python 3 (ipykernel)",
   "language": "python",
   "name": "python3"
  },
  "language_info": {
   "codemirror_mode": {
    "name": "ipython",
    "version": 3
   },
   "file_extension": ".py",
   "mimetype": "text/x-python",
   "name": "python",
   "nbconvert_exporter": "python",
   "pygments_lexer": "ipython3",
   "version": "3.10.12"
  }
 },
 "nbformat": 4,
 "nbformat_minor": 5
}
