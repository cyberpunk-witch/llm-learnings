{
 "cells": [
  {
   "cell_type": "code",
   "execution_count": 1,
   "id": "2e30ab2a-2d1b-4df4-af95-c99201eaeab9",
   "metadata": {},
   "outputs": [
    {
     "name": "stdout",
     "output_type": "stream",
     "text": [
      "=== HTML Display Demo ===\n",
      "Run each function to see HTML rendered in cell output:\n",
      "\n",
      "demo_basic_html()\n",
      "demo_html_table()\n",
      "demo_progress_elements()\n",
      "demo_alert_boxes()\n",
      "demo_dynamic_html()\n",
      "\n",
      "# Utility functions:\n",
      "html_box('This is important info!', 'Note', '#ff6b6b')\n",
      "html_code_block('def hello(): return \"world\"', 'python')\n"
     ]
    }
   ],
   "source": [
    "# Jupyter Lab HTML Display Examples\n",
    "\n",
    "from IPython.display import HTML, display\n",
    "import pandas as pd\n",
    "\n",
    "# Basic HTML display\n",
    "def demo_basic_html():\n",
    "    \"\"\"Basic HTML rendering in cell output\"\"\"\n",
    "    display(HTML(\"<h2 style='color: blue;'>This is HTML rendered in the cell!</h2>\"))\n",
    "    display(HTML(\"\"\"\n",
    "    <div style='background: #f0f8ff; padding: 15px; border-left: 4px solid #007acc;'>\n",
    "        <strong>Info Box:</strong> This is styled HTML content appearing right in your notebook.\n",
    "    </div>\n",
    "    \"\"\"))\n",
    "\n",
    "# HTML tables (prettier than plain text)\n",
    "def demo_html_table():\n",
    "    \"\"\"Create a styled HTML table\"\"\"\n",
    "    html_table = \"\"\"\n",
    "    <table style='border-collapse: collapse; width: 100%;'>\n",
    "        <thead style='background: #4CAF50; color: white;'>\n",
    "            <tr>\n",
    "                <th style='padding: 12px; border: 1px solid #ddd;'>Name</th>\n",
    "                <th style='padding: 12px; border: 1px solid #ddd;'>Score</th>\n",
    "                <th style='padding: 12px; border: 1px solid #ddd;'>Status</th>\n",
    "            </tr>\n",
    "        </thead>\n",
    "        <tbody>\n",
    "            <tr style='background: #f9f9f9;'>\n",
    "                <td style='padding: 8px; border: 1px solid #ddd;'>Alice</td>\n",
    "                <td style='padding: 8px; border: 1px solid #ddd;'>95</td>\n",
    "                <td style='padding: 8px; border: 1px solid #ddd;'>✅ Pass</td>\n",
    "            </tr>\n",
    "            <tr>\n",
    "                <td style='padding: 8px; border: 1px solid #ddd;'>Bob</td>\n",
    "                <td style='padding: 8px; border: 1px solid #ddd;'>87</td>\n",
    "                <td style='padding: 8px; border: 1px solid #ddd;'>✅ Pass</td>\n",
    "            </tr>\n",
    "        </tbody>\n",
    "    </table>\n",
    "    \"\"\"\n",
    "    display(HTML(html_table))\n",
    "\n",
    "# Progress bars and status indicators\n",
    "def demo_progress_elements():\n",
    "    \"\"\"HTML progress bars and status elements\"\"\"\n",
    "    display(HTML(\"\"\"\n",
    "    <div style='margin: 10px 0;'>\n",
    "        <h4>Project Progress:</h4>\n",
    "        <div style='background: #f0f0f0; border-radius: 10px; padding: 3px;'>\n",
    "            <div style='background: #4CAF50; width: 75%; height: 20px; border-radius: 7px; text-align: center; color: white; line-height: 20px;'>\n",
    "                75%\n",
    "            </div>\n",
    "        </div>\n",
    "    </div>\n",
    "    \"\"\"))\n",
    "\n",
    "# Alert boxes\n",
    "def demo_alert_boxes():\n",
    "    \"\"\"Different styled alert boxes\"\"\"\n",
    "    alerts = [\n",
    "        (\"<div style='background: #d4edda; color: #155724; padding: 12px; border: 1px solid #c3e6cb; border-radius: 4px; margin: 5px 0;'>✅ <strong>Success:</strong> Operation completed successfully!</div>\", \"success\"),\n",
    "        (\"<div style='background: #f8d7da; color: #721c24; padding: 12px; border: 1px solid #f5c6cb; border-radius: 4px; margin: 5px 0;'>❌ <strong>Error:</strong> Something went wrong!</div>\", \"error\"),\n",
    "        (\"<div style='background: #fff3cd; color: #856404; padding: 12px; border: 1px solid #ffeaa7; border-radius: 4px; margin: 5px 0;'>⚠️ <strong>Warning:</strong> Please review this carefully.</div>\", \"warning\"),\n",
    "        (\"<div style='background: #d1ecf1; color: #0c5460; padding: 12px; border: 1px solid #bee5eb; border-radius: 4px; margin: 5px 0;'>ℹ️ <strong>Info:</strong> Here's some useful information.</div>\", \"info\")\n",
    "    ]\n",
    "    \n",
    "    for alert_html, alert_type in alerts:\n",
    "        display(HTML(alert_html))\n",
    "\n",
    "# Dynamic HTML (can be updated)\n",
    "def demo_dynamic_html():\n",
    "    \"\"\"Show how HTML can be dynamically generated\"\"\"\n",
    "    import random\n",
    "    \n",
    "    # Generate some fake data\n",
    "    data = [\n",
    "        {\"name\": \"Model A\", \"accuracy\": random.uniform(0.8, 0.95)},\n",
    "        {\"name\": \"Model B\", \"accuracy\": random.uniform(0.8, 0.95)},\n",
    "        {\"name\": \"Model C\", \"accuracy\": random.uniform(0.8, 0.95)},\n",
    "    ]\n",
    "    \n",
    "    html = \"<h3>Model Performance Dashboard</h3>\"\n",
    "    \n",
    "    for model in data:\n",
    "        color = \"#4CAF50\" if model[\"accuracy\"] > 0.9 else \"#FF9800\" if model[\"accuracy\"] > 0.85 else \"#F44336\"\n",
    "        html += f\"\"\"\n",
    "        <div style='margin: 10px 0; padding: 10px; border: 1px solid #ddd; border-radius: 5px;'>\n",
    "            <strong>{model[\"name\"]}</strong><br>\n",
    "            <div style='background: #f0f0f0; border-radius: 10px; padding: 2px; margin-top: 5px;'>\n",
    "                <div style='background: {color}; width: {model[\"accuracy\"]*100}%; height: 15px; border-radius: 8px; color: white; text-align: center; font-size: 12px; line-height: 15px;'>\n",
    "                    {model[\"accuracy\"]:.1%}\n",
    "                </div>\n",
    "            </div>\n",
    "        </div>\n",
    "        \"\"\"\n",
    "    \n",
    "    display(HTML(html))\n",
    "\n",
    "# Utility functions for common HTML patterns\n",
    "def html_box(content, title=None, color=\"#007acc\"):\n",
    "    \"\"\"Create a styled info box\"\"\"\n",
    "    title_html = f\"<strong>{title}:</strong> \" if title else \"\"\n",
    "    html = f\"\"\"\n",
    "    <div style='background: #f8f9fa; padding: 15px; border-left: 4px solid {color}; margin: 10px 0;'>\n",
    "        {title_html}{content}\n",
    "    </div>\n",
    "    \"\"\"\n",
    "    display(HTML(html))\n",
    "\n",
    "def html_code_block(code, language=\"python\"):\n",
    "    \"\"\"Display code with syntax-like styling\"\"\"\n",
    "    html = f\"\"\"\n",
    "    <div style='background: #f6f8fa; border: 1px solid #e1e4e8; border-radius: 6px; padding: 16px; font-family: monospace; overflow-x: auto;'>\n",
    "        <div style='color: #586069; font-size: 12px; margin-bottom: 8px;'>{language}</div>\n",
    "        <pre style='margin: 0; color: #24292e;'>{code}</pre>\n",
    "    </div>\n",
    "    \"\"\"\n",
    "    display(HTML(html))\n",
    "\n",
    "# Example usage\n",
    "if __name__ == \"__main__\":\n",
    "    print(\"=== HTML Display Demo ===\")\n",
    "    print(\"Run each function to see HTML rendered in cell output:\")\n",
    "    print()\n",
    "    print(\"demo_basic_html()\")\n",
    "    print(\"demo_html_table()\")  \n",
    "    print(\"demo_progress_elements()\")\n",
    "    print(\"demo_alert_boxes()\")\n",
    "    print(\"demo_dynamic_html()\")\n",
    "    print()\n",
    "    print(\"# Utility functions:\")\n",
    "    print(\"html_box('This is important info!', 'Note', '#ff6b6b')\")\n",
    "    print(\"html_code_block('def hello(): return \\\"world\\\"', 'python')\")"
   ]
  },
  {
   "cell_type": "code",
   "execution_count": 2,
   "id": "a449b90a-1f85-47b4-8041-44b93fae5da9",
   "metadata": {},
   "outputs": [
    {
     "data": {
      "text/html": [
       "<h2 style='color: blue;'>This is HTML rendered in the cell!</h2>"
      ],
      "text/plain": [
       "<IPython.core.display.HTML object>"
      ]
     },
     "metadata": {},
     "output_type": "display_data"
    },
    {
     "data": {
      "text/html": [
       "\n",
       "    <div style='background: #f0f8ff; padding: 15px; border-left: 4px solid #007acc;'>\n",
       "        <strong>Info Box:</strong> This is styled HTML content appearing right in your notebook.\n",
       "    </div>\n",
       "    "
      ],
      "text/plain": [
       "<IPython.core.display.HTML object>"
      ]
     },
     "metadata": {},
     "output_type": "display_data"
    }
   ],
   "source": [
    "demo_basic_html()"
   ]
  },
  {
   "cell_type": "code",
   "execution_count": 3,
   "id": "26023765-6419-434b-aad0-1128c27f96e6",
   "metadata": {},
   "outputs": [
    {
     "data": {
      "text/html": [
       "\n",
       "    <table style='border-collapse: collapse; width: 100%;'>\n",
       "        <thead style='background: #4CAF50; color: white;'>\n",
       "            <tr>\n",
       "                <th style='padding: 12px; border: 1px solid #ddd;'>Name</th>\n",
       "                <th style='padding: 12px; border: 1px solid #ddd;'>Score</th>\n",
       "                <th style='padding: 12px; border: 1px solid #ddd;'>Status</th>\n",
       "            </tr>\n",
       "        </thead>\n",
       "        <tbody>\n",
       "            <tr style='background: #f9f9f9;'>\n",
       "                <td style='padding: 8px; border: 1px solid #ddd;'>Alice</td>\n",
       "                <td style='padding: 8px; border: 1px solid #ddd;'>95</td>\n",
       "                <td style='padding: 8px; border: 1px solid #ddd;'>✅ Pass</td>\n",
       "            </tr>\n",
       "            <tr>\n",
       "                <td style='padding: 8px; border: 1px solid #ddd;'>Bob</td>\n",
       "                <td style='padding: 8px; border: 1px solid #ddd;'>87</td>\n",
       "                <td style='padding: 8px; border: 1px solid #ddd;'>✅ Pass</td>\n",
       "            </tr>\n",
       "        </tbody>\n",
       "    </table>\n",
       "    "
      ],
      "text/plain": [
       "<IPython.core.display.HTML object>"
      ]
     },
     "metadata": {},
     "output_type": "display_data"
    }
   ],
   "source": [
    "demo_html_table()"
   ]
  },
  {
   "cell_type": "code",
   "execution_count": 4,
   "id": "e9284bea-c1b9-400f-803b-15f293de5dbc",
   "metadata": {},
   "outputs": [
    {
     "data": {
      "text/html": [
       "<div style='background: #d4edda; color: #155724; padding: 12px; border: 1px solid #c3e6cb; border-radius: 4px; margin: 5px 0;'>✅ <strong>Success:</strong> Operation completed successfully!</div>"
      ],
      "text/plain": [
       "<IPython.core.display.HTML object>"
      ]
     },
     "metadata": {},
     "output_type": "display_data"
    },
    {
     "data": {
      "text/html": [
       "<div style='background: #f8d7da; color: #721c24; padding: 12px; border: 1px solid #f5c6cb; border-radius: 4px; margin: 5px 0;'>❌ <strong>Error:</strong> Something went wrong!</div>"
      ],
      "text/plain": [
       "<IPython.core.display.HTML object>"
      ]
     },
     "metadata": {},
     "output_type": "display_data"
    },
    {
     "data": {
      "text/html": [
       "<div style='background: #fff3cd; color: #856404; padding: 12px; border: 1px solid #ffeaa7; border-radius: 4px; margin: 5px 0;'>⚠️ <strong>Warning:</strong> Please review this carefully.</div>"
      ],
      "text/plain": [
       "<IPython.core.display.HTML object>"
      ]
     },
     "metadata": {},
     "output_type": "display_data"
    },
    {
     "data": {
      "text/html": [
       "<div style='background: #d1ecf1; color: #0c5460; padding: 12px; border: 1px solid #bee5eb; border-radius: 4px; margin: 5px 0;'>ℹ️ <strong>Info:</strong> Here's some useful information.</div>"
      ],
      "text/plain": [
       "<IPython.core.display.HTML object>"
      ]
     },
     "metadata": {},
     "output_type": "display_data"
    }
   ],
   "source": [
    "demo_alert_boxes()"
   ]
  },
  {
   "cell_type": "code",
   "execution_count": 6,
   "id": "c1eacfa8-331b-4ce0-bc13-4b8c0d896160",
   "metadata": {},
   "outputs": [
    {
     "data": {
      "text/html": [
       "<h3>Model Performance Dashboard</h3>\n",
       "        <div style='margin: 10px 0; padding: 10px; border: 1px solid #ddd; border-radius: 5px;'>\n",
       "            <strong>Model A</strong><br>\n",
       "            <div style='background: #f0f0f0; border-radius: 10px; padding: 2px; margin-top: 5px;'>\n",
       "                <div style='background: #FF9800; width: 89.54723108872834%; height: 15px; border-radius: 8px; color: white; text-align: center; font-size: 12px; line-height: 15px;'>\n",
       "                    89.5%\n",
       "                </div>\n",
       "            </div>\n",
       "        </div>\n",
       "        \n",
       "        <div style='margin: 10px 0; padding: 10px; border: 1px solid #ddd; border-radius: 5px;'>\n",
       "            <strong>Model B</strong><br>\n",
       "            <div style='background: #f0f0f0; border-radius: 10px; padding: 2px; margin-top: 5px;'>\n",
       "                <div style='background: #4CAF50; width: 90.34989352043553%; height: 15px; border-radius: 8px; color: white; text-align: center; font-size: 12px; line-height: 15px;'>\n",
       "                    90.3%\n",
       "                </div>\n",
       "            </div>\n",
       "        </div>\n",
       "        \n",
       "        <div style='margin: 10px 0; padding: 10px; border: 1px solid #ddd; border-radius: 5px;'>\n",
       "            <strong>Model C</strong><br>\n",
       "            <div style='background: #f0f0f0; border-radius: 10px; padding: 2px; margin-top: 5px;'>\n",
       "                <div style='background: #FF9800; width: 89.03287653617508%; height: 15px; border-radius: 8px; color: white; text-align: center; font-size: 12px; line-height: 15px;'>\n",
       "                    89.0%\n",
       "                </div>\n",
       "            </div>\n",
       "        </div>\n",
       "        "
      ],
      "text/plain": [
       "<IPython.core.display.HTML object>"
      ]
     },
     "metadata": {},
     "output_type": "display_data"
    }
   ],
   "source": [
    "demo_dynamic_html()"
   ]
  },
  {
   "cell_type": "code",
   "execution_count": null,
   "id": "16768ebe-930d-4a3d-ac86-18250add7419",
   "metadata": {},
   "outputs": [],
   "source": []
  },
  {
   "cell_type": "code",
   "execution_count": null,
   "id": "06c2551b-0e17-41c1-ab86-ff69254487cf",
   "metadata": {},
   "outputs": [],
   "source": []
  }
 ],
 "metadata": {
  "kernelspec": {
   "display_name": "Python 3 (ipykernel)",
   "language": "python",
   "name": "python3"
  },
  "language_info": {
   "codemirror_mode": {
    "name": "ipython",
    "version": 3
   },
   "file_extension": ".py",
   "mimetype": "text/x-python",
   "name": "python",
   "nbconvert_exporter": "python",
   "pygments_lexer": "ipython3",
   "version": "3.10.12"
  }
 },
 "nbformat": 4,
 "nbformat_minor": 5
}
