{
 "cells": [
  {
   "cell_type": "code",
   "execution_count": 9,
   "id": "36795c26-d865-4d08-bcca-e32de4323da5",
   "metadata": {},
   "outputs": [
    {
     "name": "stdout",
     "output_type": "stream",
     "text": [
      "Requirement already satisfied: cryptography in /home/bfhgfe/miniforge3/lib/python3.12/site-packages (45.0.7)\n",
      "Requirement already satisfied: cffi>=1.14 in /home/bfhgfe/miniforge3/lib/python3.12/site-packages (from cryptography) (1.17.1)\n",
      "Requirement already satisfied: pycparser in /home/bfhgfe/miniforge3/lib/python3.12/site-packages (from cffi>=1.14->cryptography) (2.22)\n"
     ]
    }
   ],
   "source": [
    "!pip install cryptography"
   ]
  },
  {
   "cell_type": "markdown",
   "id": "29a70746-7587-43a5-8bcf-86d5e69c2063",
   "metadata": {},
   "source": [
    "# 1. Symmetric Example\n",
    "Simple cryptography: we generate a key, and this key is used both to encrypt and decrypt messages.\n",
    "If the key is exposed, all messages encrypted with this key are exposed."
   ]
  },
  {
   "cell_type": "code",
   "execution_count": 11,
   "id": "a5fd3cea-f0df-46f3-ae62-f21b7bd05324",
   "metadata": {},
   "outputs": [
    {
     "name": "stdout",
     "output_type": "stream",
     "text": [
      "Symmetric Key example\n",
      "first generate a key with Fernet.generate_key():\n",
      "key: b'hLNlqUN-bFzKomWeR_W_mmj-6TJytklorA1nk31BNb0='\n",
      "Now generate a function to encrypt or decrypt stuff from using the key. func = Fernet(key)\n",
      "(function generated)\n"
     ]
    },
    {
     "name": "stdin",
     "output_type": "stream",
     "text": [
      "Now give me a msg to encrypt:  please encrypt me\n"
     ]
    },
    {
     "name": "stdout",
     "output_type": "stream",
     "text": [
      "to create an encrypted message we need the string to be in utf8 bytes: \n",
      "b'please encrypt me'\n",
      "To encrypt we use our function. func.encrypt(msg_in_bytes). Resulting encoded message: \n",
      "b'gAAAAABowzS3VErBJt_l7El6SmwoF4hDdTFzQdz2RcXxx8cHALpdJQ4Hw0dOz4UrBYHeZRayK48h646QjjOqoejsYkgQvj0am_myWfAVPM9DpWnK3g0UDwk='\n",
      "Now to decrypt we use our function again. func.decrypt(encoded_message)\n",
      "(Note that in practice, the recipient would recreate the function using the shared key)\n",
      "Decoded message: \n",
      "b'please encrypt me'\n"
     ]
    }
   ],
   "source": [
    "from cryptography.fernet import Fernet\n",
    "print(\"Symmetric Key example\")\n",
    "print(\"first generate a key with Fernet.generate_key():\")\n",
    "key = Fernet.generate_key()\n",
    "print(f'key: {key}')\n",
    "print(\"Now generate a function to encrypt or decrypt stuff from using the key. func = Fernet(key)\")\n",
    "func = Fernet(key)\n",
    "print(\"(function generated)\")\n",
    "msg_to_encrypt = input(\"Now give me a msg to encrypt: \")\n",
    "print(\"to create an encrypted message we need the string to be in utf8 bytes: \")\n",
    "msg_in_bytes = msg_to_encrypt.encode(\"utf8\")\n",
    "print(msg_in_bytes)\n",
    "print(\"To encrypt we use our function. func.encrypt(msg_in_bytes). Resulting encoded message: \")\n",
    "encoded_message = func.encrypt(msg_in_bytes)\n",
    "print(encoded_message)\n",
    "print(\"Now to decrypt we use our function again. func.decrypt(encoded_message)\")\n",
    "decoded_message = func.decrypt(encoded_message)\n",
    "print(\"(Note that in practice, the recipient would recreate the function using the shared key)\")\n",
    "print(\"Decoded message: \")\n",
    "print(decoded_message)"
   ]
  },
  {
   "cell_type": "code",
   "execution_count": 7,
   "id": "12eb9606-06c7-46e6-9f19-2c3179ac0713",
   "metadata": {},
   "outputs": [
    {
     "name": "stdout",
     "output_type": "stream",
     "text": [
      "With MultiFernet, you can rotate encryption tokens.\n",
      "First generate 2 keys and their functions using fernet. func = ((Fernet.generate_key()) twice to get f1, f2\n",
      "Then create a multifernet function mfunc1 using MultiFernet([f1, f2])\n",
      "Now you may encrypt a message using two keys: \n"
     ]
    },
    {
     "name": "stdin",
     "output_type": "stream",
     "text": [
      "Msg to encode:  please encrypt me too\n"
     ]
    },
    {
     "name": "stdout",
     "output_type": "stream",
     "text": [
      "Encrypted message: b'gAAAAABowyJMrTA23_zY6FZwiYw86eTwktzOUNtadYLGFdY9tCtwqV1vplDVbPL5VA9Gmgd5_Wi7C1jMuOTD-Q8IF1RguoeY7SNnVLHGCcwDl4g3eaQAHxM='\n",
      "Decrypting with our new mfunc1 we get: mfunc1.decrypt(encrypted_message) gives b'please encrypt me too'\n",
      "To rotate an encrypted message, first generate a third password, key3, and a third function, f3.\n",
      "Then generate the new encryption function using MultiFernet([func3, func1, func2]) to get mfunc2.\n",
      " The order matters.\n",
      "now re-encrypt the encrypted message using the rotate function: mfunc2.rotate(encrypted_message)\n",
      "new rotated message: b'gAAAAABowyJMvbOjqDo-ElxKxyCQ8e7TnAFac0yATKWZBefK88D7OpZ0kSmOUMFlJfdjpE4tNKwICL676qbU36qnIrO_2s_zKfWl1AqZBzxsUZidIUwRpSw='\n",
      "We can now decrypt with mfunc2.decrypt(rotated_message)\n",
      "decrypted message: b'please encrypt me too'\n"
     ]
    }
   ],
   "source": [
    "from cryptography.fernet import MultiFernet #having already imported Fernet above.\n",
    "print(\"With MultiFernet, you can rotate encryption tokens.\")\n",
    "print(\"First generate 2 keys and their functions using fernet. func = ((Fernet.generate_key()) twice to get f1, f2\")\n",
    "key1 = Fernet.generate_key()\n",
    "key2 = Fernet.generate_key()\n",
    "func1 = Fernet(key1)\n",
    "func2 = Fernet(key2)\n",
    "print(\"Then create a multifernet function mfunc1 using MultiFernet([f1, f2])\")\n",
    "mfunc1 = MultiFernet([func1, func2])\n",
    "print(\"Now you may encrypt a message using two keys: \")\n",
    "msg_to_encode = input(\"Msg to encode: \")\n",
    "msg_in_bytes = msg_to_encode.encode(\"utf8\")\n",
    "encrypted_message = mfunc1.encrypt(msg_in_bytes)\n",
    "print(f'Encrypted message: {encrypted_message}')\n",
    "decrypted_message = mfunc1.decrypt(encrypted_message)\n",
    "print(f'Decrypting with our new mfunc1 we get: mfunc1.decrypt(encrypted_message) gives {decrypted_message}')\n",
    "print(\"To rotate an encrypted message, first generate a third password, key3, and a third function, f3.\")\n",
    "key3 = Fernet.generate_key()\n",
    "func3 = Fernet(key3)\n",
    "print(\"Then generate the new encryption function using MultiFernet([func3, func1, func2]) to get mfunc2.\\n The order matters.\")\n",
    "mfunc2 = MultiFernet([func3, func1, func2])\n",
    "print(\"now re-encrypt the encrypted message using the rotate function: mfunc2.rotate(encrypted_message)\")\n",
    "rotated_message = mfunc2.rotate(encrypted_message)\n",
    "print(f'new rotated message: {rotated_message}')\n",
    "print(\"We can now decrypt with mfunc2.decrypt(rotated_message)\")\n",
    "decrypted_rotated = mfunc2.decrypt(rotated_message)\n",
    "print(f'decrypted message: {decrypted_rotated}')"
   ]
  },
  {
   "cell_type": "markdown",
   "id": "17ff34ac-f641-49e1-ad81-7511b1eb8e37",
   "metadata": {},
   "source": [
    "# some questions about rotation\n",
    "**q: do I need to use at least two keys to create a rotatable token(encrypted message) with multifernet? why does the example start with encrypting with two keys? Is this considered best practices?**\n",
    "\n",
    "**a**: The multifermet class expects a vector of Fermets, but it's ambiguous to me whether two \n",
    "keys are actually required at this time; best practice is to follow documented example, and\n",
    "generate two keys, until one of us (the writer or reader) knows better.\n",
    "\n",
    "# Password example: "
   ]
  },
  {
   "cell_type": "code",
   "execution_count": 15,
   "id": "1a517c39-d7ec-4992-ae75-1850ebf92e5e",
   "metadata": {},
   "outputs": [
    {
     "name": "stdout",
     "output_type": "stream",
     "text": [
      "Provide a password, which we'll encode as utf8/binary via password.encode('utf8').\n"
     ]
    },
    {
     "name": "stdin",
     "output_type": "stream",
     "text": [
      "Please provide a password:  my super awesome passphrase\n"
     ]
    },
    {
     "name": "stdout",
     "output_type": "stream",
     "text": [
      "Generate a salt: b'\\x04\\xc4\\xd2\\xf2!\\x8bp)\\xc5{6\\xc1\\x88\\x9f\\xc6)' via os.random(16)\n",
      "Now create a kdf object using our encoder, in this case PBKDF2HMAC\n",
      "this was created via the following syntax: \n",
      "kdf = PBKDF2HMAC(\n",
      "    algorithm=hashes.SHA256(),\n",
      "    length=32,\n",
      "    salt=salt,\n",
      "    iterations=1_200_000,\n",
      ")\n",
      "\n",
      "Now encode a key using base64.urlsafe_b64encode(kdf.derive(password))\n",
      "generate a function as usual: func = Fernet(key)\n",
      "Key from base64.urlsafe_b64encode(kdf.derive(password)): b'7vyQTLpIaCAJUJEXcKo5S96_aHDbJHLiE8g-2t_jGpo='\n"
     ]
    },
    {
     "name": "stdin",
     "output_type": "stream",
     "text": [
      "Please provide a message to encode:  please encrypt this with a password (passphrase)\n"
     ]
    },
    {
     "name": "stdout",
     "output_type": "stream",
     "text": [
      "resulting encrypted message: b'gAAAAABowzWX6HLnWiJR9hi5JHUcEFezjxpemQjD_b2YtqCFNXtUOhBc5pakvKs6qjMclkbvATrrPG4pYcrmWYSlQzxmnzMeJbmq_xhuNPkAHM-pN6KSKit9FwCs-LtrfGOjYpooj64ps4kG52BfCWVLOQorKUHAKA=='\n",
      "now decrypt as usual: func.decrypt(token) gives b'please encrypt this with a password (passphrase)'\n"
     ]
    }
   ],
   "source": [
    "from cryptography.hazmat.primitives import hashes\n",
    "from cryptography.hazmat.primitives.kdf.pbkdf2 import PBKDF2HMAC\n",
    "import os, base64\n",
    "print(\"Provide a password, which we'll encode as utf8/binary via password.encode('utf8').\")\n",
    "password = input(\"Please provide a password: \").encode(\"utf8\")\n",
    "salt = os.urandom(16)\n",
    "print(f\"Generate a salt: {salt} via os.random(16)\")\n",
    "print(\"Now create a kdf object using our encoder, in this case PBKDF2HMAC\")\n",
    "kdf = PBKDF2HMAC(\n",
    "    algorithm=hashes.SHA256(),\n",
    "    length=32,\n",
    "    salt=salt,\n",
    "    iterations=1_200_000,\n",
    ")\n",
    "print(\"\"\"this was created via the following syntax: \n",
    "kdf = PBKDF2HMAC(\n",
    "    algorithm=hashes.SHA256(),\n",
    "    length=32,\n",
    "    salt=salt,\n",
    "    iterations=1_200_000,\n",
    ")\n",
    "\"\"\")\n",
    "print(\"Now encode a key using base64.urlsafe_b64encode(kdf.derive(password))\")\n",
    "key = base64.urlsafe_b64encode(kdf.derive(password))\n",
    "print(\"generate a function as usual: func = Fernet(key)\")\n",
    "func = Fernet(key)\n",
    "print(f\"Key from base64.urlsafe_b64encode(kdf.derive(password)): {key}\")\n",
    "secret_message = input(\"Please provide a message to encode: \").encode(\"utf8\")\n",
    "token = func.encrypt(secret_message)\n",
    "print(f\"resulting encrypted message: {token}\")\n",
    "decrypted_message = func.decrypt(token)\n",
    "print(f\"now decrypt as usual: func.decrypt(token) gives {decrypted_message}\")\n"
   ]
  },
  {
   "cell_type": "markdown",
   "id": "266479f9-e5dd-4338-8418-e7f6c263f06c",
   "metadata": {},
   "source": [
    "# Elliptic key\n",
    "fernet supports: \n",
    "\"AES in CBC mode with a 128-bit key for encryption; using PKCS7 padding.\n",
    "\n",
    "HMAC using SHA256 for authentication.\n",
    "\n",
    "Initialization vectors are generated using os.urandom().\n",
    "Fernet is ideal for encrypting data that easily fits in memory. As a design feature it does not expose unauthenticated bytes. This means that the complete message contents must be available in memory, making Fernet generally unsuitable for very large files at this time.\"\n",
    "--from cryptography.io\n",
    "\n",
    "question: AES vs SHA256? \n",
    "AES: AES is a symmetric-key encryption algorithm used for securing data at rest and in transit. It’s primarily used for encrypting and decrypting data to maintain its confidentiality.\n",
    "SHA-256: SHA-256 is a cryptographic hash function used for data integrity and digital signatures. It takes an input (message) and produces a fixed-size hash value, typically 256 bits long. Its primary purpose is to verify the integrity of data and create a unique representation of a message.\n",
    "Both are important to use, but for different purposes. \n",
    "\n",
    "question: how often to auth? when to auth? how to use HMAC and AES together? \n",
    "a: TBD\n",
    "\n",
    "# Stream Ciphers\n",
    "cha-cha example:"
   ]
  },
  {
   "cell_type": "code",
   "execution_count": 4,
   "id": "b61f7b61-8e2c-4188-aba5-c09241f29c69",
   "metadata": {},
   "outputs": [
    {
     "name": "stdout",
     "output_type": "stream",
     "text": [
      "Ciphertext: 10df54625d02fb10958c0f9c2ceffdce3c34fded4a874cc688\n",
      "Decrypted plaintext: This is a secret message.\n",
      "Ciphertext2: 85bbcfb92d532d20997333bcf52a620519a81ee5ec57b07120c8e214f9a99d9762\n",
      "decrypted plaintext2:  This is a second secret message.\n"
     ]
    }
   ],
   "source": [
    "import os\n",
    "from cryptography.hazmat.primitives.ciphers import Cipher, algorithms\n",
    "from cryptography.hazmat.primitives import hashes\n",
    "from cryptography.hazmat.primitives.kdf.pbkdf2 import PBKDF2HMAC\n",
    "\n",
    "plaintext = b\"This is a secret message.\"\n",
    "key = os.urandom(32)  # ChaCha20 key must be 32 bytes\n",
    "nonce = os.urandom(16)  # ChaCha20 nonce must be 16 bytes\n",
    "\n",
    "# Create the ChaCha20 cipher object for encryption\n",
    "cipher = Cipher(algorithms.ChaCha20(key, nonce), mode=None)\n",
    "encryptor = cipher.encryptor()\n",
    "\n",
    "# Encrypt the plaintext\n",
    "ciphertext = encryptor.update(plaintext)\n",
    "print(f\"Ciphertext: {ciphertext.hex()}\")\n",
    "\n",
    "# Create the ChaCha20 cipher object for decryption\n",
    "cipher = Cipher(algorithms.ChaCha20(key, nonce), mode=None)\n",
    "decryptor = cipher.decryptor()\n",
    "\n",
    "# Decrypt the ciphertext\n",
    "decrypted_plaintext = decryptor.update(ciphertext)\n",
    "print(f\"Decrypted plaintext: {decrypted_plaintext.decode('utf-8')}\")\n",
    "\n",
    "plaintext2 = b\" This is a second secret message.\"\n",
    "ciphertext2 = encryptor.update(plaintext2)\n",
    "print(f\"Ciphertext2: {ciphertext2.hex()}\")\n",
    "\n",
    "decrypted_plaintext2 = decryptor.update(ciphertext2)\n",
    "print(f\"decrypted plaintext2: {decrypted_plaintext2.decode('utf-8')}\")\n"
   ]
  },
  {
   "cell_type": "markdown",
   "id": "ba01ec6f-fc89-4f78-a9a5-6a2ce6b8bcb0",
   "metadata": {},
   "source": [
    "question: kdf.derive vs bcrypt?  bcrypt is better\n",
    "but eh\n",
    "kdf.derive is really good, so it hardly matters... ? \n"
   ]
  },
  {
   "cell_type": "code",
   "execution_count": null,
   "id": "ba332ce0-ceed-4b58-b8b7-19abf9495a75",
   "metadata": {},
   "outputs": [],
   "source": []
  },
  {
   "cell_type": "code",
   "execution_count": null,
   "id": "e7d774c9-f5b1-44f2-ae2b-a7b5d1e3df65",
   "metadata": {},
   "outputs": [],
   "source": []
  }
 ],
 "metadata": {
  "kernelspec": {
   "display_name": "Python 3 (ipykernel)",
   "language": "python",
   "name": "python3"
  },
  "language_info": {
   "codemirror_mode": {
    "name": "ipython",
    "version": 3
   },
   "file_extension": ".py",
   "mimetype": "text/x-python",
   "name": "python",
   "nbconvert_exporter": "python",
   "pygments_lexer": "ipython3",
   "version": "3.10.12"
  }
 },
 "nbformat": 4,
 "nbformat_minor": 5
}
