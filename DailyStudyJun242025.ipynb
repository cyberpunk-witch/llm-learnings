{
 "cells": [
  {
   "cell_type": "markdown",
   "id": "d080e4a1-c11f-4b67-a930-0a4135e5419b",
   "metadata": {},
   "source": [
    " gtd stuff\n",
    " 1. first figure out how to get an agent to recognize it is overwhelmed.\n",
    " 2. \n",
    "\n",
    "\n"
   ]
  }
 ],
 "metadata": {
  "kernelspec": {
   "display_name": "Python 3 (ipykernel)",
   "language": "python",
   "name": "python3"
  },
  "language_info": {
   "codemirror_mode": {
    "name": "ipython",
    "version": 3
   },
   "file_extension": ".py",
   "mimetype": "text/x-python",
   "name": "python",
   "nbconvert_exporter": "python",
   "pygments_lexer": "ipython3",
   "version": "3.10.12"
  }
 },
 "nbformat": 4,
 "nbformat_minor": 5
}
