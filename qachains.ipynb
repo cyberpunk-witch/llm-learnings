{
 "cells": [
  {
   "cell_type": "code",
   "execution_count": null,
   "id": "1504192b-3831-4c0b-8692-a79ab46b7b84",
   "metadata": {},
   "outputs": [],
   "source": [
    "from langchain.chains.question_answering import load_qa_chain\n",
    "template = \"\"\"\n",
    "{Your_Prompt}\n",
    "\n",
    "CONTEXT:\n",
    "{context}\n",
    "\n",
    "QUESTION:\n",
    "{query}\n",
    "\n",
    "CHAT HISTORY:\n",
    "{chat_history}\n",
    "\n",
    "ANSWER:\n",
    "\"\"\"\n",
    "\n",
    "prompt = PromptTemplate(input_variables=[\"chat_history\", \"query\", \"context\"], template=template)\n",
    "memory = ConversationBufferMemory(memory_key=\"chat_history\", input_key=\"query\")\n",
    "\n",
    "chain = load_qa_chain(ChatOpenAI(temperature=0), chain_type=\"stuff\", memory=memory, prompt=prompt)"
   ]
  }
 ],
 "metadata": {
  "kernelspec": {
   "display_name": "Python 3 (ipykernel)",
   "language": "python",
   "name": "python3"
  },
  "language_info": {
   "codemirror_mode": {
    "name": "ipython",
    "version": 3
   },
   "file_extension": ".py",
   "mimetype": "text/x-python",
   "name": "python",
   "nbconvert_exporter": "python",
   "pygments_lexer": "ipython3",
   "version": "3.10.12"
  }
 },
 "nbformat": 4,
 "nbformat_minor": 5
}
