{
 "cells": [
  {
   "cell_type": "code",
   "execution_count": 15,
   "id": "24aa980f-1a9f-4004-b51f-f9504aa7a931",
   "metadata": {},
   "outputs": [
    {
     "name": "stderr",
     "output_type": "stream",
     "text": [
      "ERROR: Could not find a version that satisfies the requirement venv (from versions: none)\n",
      "ERROR: No matching distribution found for venv\n",
      "'source' is not recognized as an internal or external command,\n",
      "operable program or batch file.\n"
     ]
    },
    {
     "ename": "NameError",
     "evalue": "name 'MeTTa' is not defined",
     "output_type": "error",
     "traceback": [
      "\u001b[1;31m---------------------------------------------------------------------------\u001b[0m",
      "\u001b[1;31mNameError\u001b[0m                                 Traceback (most recent call last)",
      "Cell \u001b[1;32mIn[15], line 8\u001b[0m\n\u001b[0;32m      6\u001b[0m get_ipython()\u001b[38;5;241m.\u001b[39msystem(\u001b[38;5;124m'\u001b[39m\u001b[38;5;124mpip install --user venv\u001b[39m\u001b[38;5;124m'\u001b[39m)\n\u001b[0;32m      7\u001b[0m get_ipython()\u001b[38;5;241m.\u001b[39msystem(\u001b[38;5;124m'\u001b[39m\u001b[38;5;124msource venv/bin/activate\u001b[39m\u001b[38;5;124m'\u001b[39m)\n\u001b[1;32m----> 8\u001b[0m metta \u001b[38;5;241m=\u001b[39m MeTTa()\n\u001b[0;32m      9\u001b[0m result \u001b[38;5;241m=\u001b[39m metta\u001b[38;5;241m.\u001b[39mrun(\u001b[38;5;124m'''\u001b[39m\n\u001b[0;32m     10\u001b[0m \u001b[38;5;124m   (= (foo) boo)\u001b[39m\n\u001b[0;32m     11\u001b[0m \u001b[38;5;124m   ! (foo)\u001b[39m\n\u001b[0;32m     12\u001b[0m \u001b[38;5;124m   ! (match &self (= ($f) boo) $f)\u001b[39m\n\u001b[0;32m     13\u001b[0m \u001b[38;5;124m'''\u001b[39m)\n\u001b[0;32m     14\u001b[0m \u001b[38;5;28mprint\u001b[39m(result)\n",
      "\u001b[1;31mNameError\u001b[0m: name 'MeTTa' is not defined"
     ]
    }
   ],
   "source": [
    "# rough idea\n",
    "# sci-hub access, doi lookup access, wiki access\n",
    "# some kind of formal logical proof checker\n",
    "# build me a fact-checker agent\n",
    "#input sorting\n",
    "!pip install --user venv\n",
    "%source venv/bin/activate\n",
    "metta = MeTTa()\n",
    "result = metta.run('''\n",
    "   (= (foo) boo)\n",
    "   ! (foo)\n",
    "   ! (match &self (= ($f) boo) $f)\n",
    "''')\n",
    "print(result) # [[boo], [foo]]\n"
   ]
  },
  {
   "cell_type": "code",
   "execution_count": null,
   "id": "d1c448b7-380e-4eee-9920-c1429041f246",
   "metadata": {},
   "outputs": [],
   "source": [
    "from hyperon import MeTTa\n",
    "\n",
    "class HyperonTool:\n",
    "    def __init__(self):\n",
    "        self.metta = MeTTa()\n",
    "        # Optionally preload knowledge or inference rules\n",
    "        # self.metta.run(\"(= (isa Alice Human))\")\n",
    "    \n",
    "    def run_query(self, metta_expr: str):\n",
    "        \"\"\"\n",
    "        Send a MeTTa expression and return result atoms.\n",
    "        \"\"\"\n",
    "        result = self.metta.run(metta_expr)\n",
    "        return result\n"
   ]
  },
  {
   "cell_type": "code",
   "execution_count": null,
   "id": "acbff647-23de-41a7-9ace-cf66fd6409fa",
   "metadata": {},
   "outputs": [],
   "source": [
    "from langgraph import StateGraph, tool\n",
    "\n",
    "graph = StateGraph()\n",
    "\n",
    "@tool\n",
    "def reactive_reasoner(state):\n",
    "    expr = state.get(\"metta_input\", \"\")\n",
    "    if not expr:\n",
    "        return {\"response\": \"No query provided.\"}\n",
    "    \n",
    "    # Execute MeTTa query\n",
    "    findings = query_metta(expr)\n",
    "    return {\"response\": findings}\n",
    "\n",
    "# Configure flow\n",
    ":contentReference[oaicite:4]{index=4}\n"
   ]
  }
 ],
 "metadata": {
  "kernelspec": {
   "display_name": "Python 3 (ipykernel)",
   "language": "python",
   "name": "python3"
  },
  "language_info": {
   "codemirror_mode": {
    "name": "ipython",
    "version": 3
   },
   "file_extension": ".py",
   "mimetype": "text/x-python",
   "name": "python",
   "nbconvert_exporter": "python",
   "pygments_lexer": "ipython3",
   "version": "3.12.4"
  }
 },
 "nbformat": 4,
 "nbformat_minor": 5
}
