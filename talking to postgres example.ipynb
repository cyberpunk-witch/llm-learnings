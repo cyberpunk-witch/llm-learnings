{
 "cells": [
  {
   "cell_type": "code",
   "execution_count": 6,
   "id": "4a9a384f-c059-4df7-a7ed-3b3e1cfa7a4a",
   "metadata": {},
   "outputs": [
    {
     "name": "stdout",
     "output_type": "stream",
     "text": [
      "Defaulting to user installation because normal site-packages is not writeable\n",
      "Requirement already satisfied: psycopg2 in /home/bfhgfe/.local/lib/python3.10/site-packages (2.9.10)\n"
     ]
    }
   ],
   "source": [
    "!pip3 install psycopg2\n",
    "import psycopg2\n",
    "\n"
   ]
  },
  {
   "cell_type": "code",
   "execution_count": 11,
   "id": "d9ba22ab-7bf6-43b9-bb1c-4867d9a472ff",
   "metadata": {},
   "outputs": [
    {
     "name": "stdout",
     "output_type": "stream",
     "text": [
      "called\n",
      "try\n",
      "(1, 100, \"abc'def\")\n",
      "result\n"
     ]
    },
    {
     "data": {
      "text/plain": [
       "True"
      ]
     },
     "execution_count": 11,
     "metadata": {},
     "output_type": "execute_result"
    }
   ],
   "source": [
    "def postgres_test():\n",
    "    print('called')\n",
    "    try:\n",
    "        print('try')\n",
    "        conn = psycopg2.connect(\"dbname = 'mnemnosyne' user='postgres' password='kitten samsara kaboodle nirvana' host='localhost' port='5432'\")\n",
    "        cur = conn.cursor()\n",
    "        cur.execute(\"CREATE TABLE test (id serial PRIMARY KEY, num integer, data varchar);\")\n",
    "        cur.execute(\"INSERT INTO test (num, data) VALUES (%s, %s)\",\n",
    "                    (100, \"abc'def\"))\n",
    "        cur.execute(\"SELECT * FROM test;\")\n",
    "        print(cur.fetchone())\n",
    "        conn.commit()\n",
    "        cur.close()\n",
    "        conn.close()\n",
    "        print('result')\n",
    "        return True\n",
    "    except:\n",
    "        print('fail')\n",
    "        return False\n",
    "\n",
    "postgres_test()"
   ]
  },
  {
   "cell_type": "raw",
   "id": "1a6d3628-381f-4c23-85f8-0baf44177751",
   "metadata": {},
   "source": []
  },
  {
   "cell_type": "code",
   "execution_count": null,
   "id": "514c0074-661c-4a03-98d0-5092786999e0",
   "metadata": {},
   "outputs": [],
   "source": []
  },
  {
   "cell_type": "code",
   "execution_count": null,
   "id": "344d8159-eb7d-461b-9643-fa3d1229ad46",
   "metadata": {},
   "outputs": [],
   "source": []
  },
  {
   "cell_type": "code",
   "execution_count": null,
   "id": "dd3458b4-794e-4f03-8a88-3d982a69d24b",
   "metadata": {},
   "outputs": [],
   "source": []
  }
 ],
 "metadata": {
  "kernelspec": {
   "display_name": "Python 3 (ipykernel)",
   "language": "python",
   "name": "python3"
  },
  "language_info": {
   "codemirror_mode": {
    "name": "ipython",
    "version": 3
   },
   "file_extension": ".py",
   "mimetype": "text/x-python",
   "name": "python",
   "nbconvert_exporter": "python",
   "pygments_lexer": "ipython3",
   "version": "3.10.12"
  }
 },
 "nbformat": 4,
 "nbformat_minor": 5
}
