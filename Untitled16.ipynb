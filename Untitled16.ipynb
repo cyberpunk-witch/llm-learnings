{
 "cells": [
  {
   "cell_type": "code",
   "execution_count": null,
   "id": "3fbeb09f-2861-41c5-bb4b-8c9711c7d222",
   "metadata": {},
   "outputs": [],
   "source": [
    "from Langchain_Ollama import Chatollama\n",
    "from langchain_community.tools import DuckDuckGoSearchRun\n",
    "\n",
    "#messages store\n",
    "messages = []\n",
    "\n",
    "llm = ChatOllama(model=\"qwen3:1.7b\")\n",
    "search = DuckDuckGoSearchRun()\n",
    "\n",
    "agent = create_react_agent(\n",
    "    model=llm,\n",
    "    tools=[search],\n",
    "    prompt=agent_prompt\n",
    ")\n",
    "\n",
    "while True:\n",
    "    try:\n",
    "        # Run the agent\n",
    "        user_input = input(\"User: \")\n",
    "        messages.append(HumanMessage(content=user_input, additional_kwargs={}, response_metadata={}))\n",
    "        result = agent.invoke({\"messages\": messages})        \n",
    "        for msg in result[\"messages\"]:\n",
    "            msg.pretty_print()\n",
    "        if user_input.lower() in [\"quit\", \"exit\", \"q\"]:\n",
    "            print(\"Goodbye!\")\n",
    "            break \n",
    "    except EOFError:\n",
    "        # fallback if input() is not available\n",
    "        user_input = \"Thank you for your service!\"\n",
    "        print(\"User: \" + user_input)\n",
    "        break\n",
    "    except Exception as e:\n",
    "        print(\"An error occured: \"+str(e))\n"
   ]
  }
 ],
 "metadata": {
  "kernelspec": {
   "display_name": "Python 3 (ipykernel)",
   "language": "python",
   "name": "python3"
  },
  "language_info": {
   "codemirror_mode": {
    "name": "ipython",
    "version": 3
   },
   "file_extension": ".py",
   "mimetype": "text/x-python",
   "name": "python",
   "nbconvert_exporter": "python",
   "pygments_lexer": "ipython3",
   "version": "3.10.12"
  }
 },
 "nbformat": 4,
 "nbformat_minor": 5
}
